{
 "cells": [
  {
   "cell_type": "markdown",
   "metadata": {},
   "source": [
    "### Learning By Example\n",
    "\n",
    "A simple interactive program, that:\n",
    "\n",
    "    Displays a list.\n",
    "    Prompts a User to 'Choose An Index Position'.\n",
    "    Prompts a User to 'Input a value'.\n",
    "    Replaces the present value at the index position wih the chosen input value of the User. \n",
    "    NB. The nice to have, check whether User wants to continue the game."
   ]
  },
  {
   "cell_type": "markdown",
   "metadata": {},
   "source": [
    "#### Building on [3. Validation].\n",
    "\n",
    "def userSelection():\n",
    "    \n",
    "    # Set the 'flags'\n",
    "    decision = 'Incorrect Value'\n",
    "    withinRange = False\n",
    "    \n",
    "    # While the choice is not a digit, keep asking for input.\n",
    "    while decision.isdigit() == False or withinRange == False:\n",
    "        \n",
    "    \n",
    "    # we shouldn't convert here, otherwise we get an error on a wrong input\n",
    "        decision = input(\"Please enter a number (0-9): \")\n",
    "        \n",
    "        if decision.isdigit() == False:\n",
    "            print(\"Sorry that is not a digit!\")\n",
    "            \n",
    "        if decision.isdigit() == True:\n",
    "            if int(decision) in range(0,10):\n",
    "                withinRange = True\n",
    "            else:\n",
    "                withinRange = False\n",
    "        \n",
    "    # We can convert once the while loop above has confirmed we have a digit.\n",
    "    return int(decision)"
   ]
  },
  {
   "cell_type": "code",
   "execution_count": null,
   "metadata": {},
   "outputs": [],
   "source": [
    "******************************************************"
   ]
  },
  {
   "cell_type": "code",
   "execution_count": null,
   "metadata": {},
   "outputs": [],
   "source": [
    "# Display Board With Multiple Rows"
   ]
  },
  {
   "cell_type": "code",
   "execution_count": 38,
   "metadata": {},
   "outputs": [],
   "source": [
    "\n",
    "row1 =[' ',' ',' ']\n",
    "row2 =[' ',' ',' ']\n",
    "row3 =[' ',' ',' ']\n",
    "\n",
    "def displayBoard (row3,row2,row1):\n",
    "    print(\"Here is the current board\")\n",
    "    print(\" \")\n",
    "    print(row3)\n",
    "    print(row2)\n",
    "    print(row1)\n",
    "    print(\" \")\n",
    "\n",
    "\n"
   ]
  },
  {
   "cell_type": "code",
   "execution_count": 46,
   "metadata": {},
   "outputs": [
    {
     "name": "stdout",
     "output_type": "stream",
     "text": [
      "Here is the current board\n",
      " \n",
      "[' ', ' ', ' ']\n",
      "[' ', ' ', ' ']\n",
      "[' ', ' ', ' ']\n",
      " \n"
     ]
    }
   ],
   "source": [
    "displayBoard(row3,row2,row1)"
   ]
  },
  {
   "cell_type": "code",
   "execution_count": null,
   "metadata": {},
   "outputs": [],
   "source": [
    "******************************************************"
   ]
  },
  {
   "cell_type": "code",
   "execution_count": null,
   "metadata": {},
   "outputs": [],
   "source": []
  },
  {
   "cell_type": "code",
   "execution_count": 59,
   "metadata": {},
   "outputs": [],
   "source": [
    "gameBoard = [0,1,2]"
   ]
  },
  {
   "cell_type": "code",
   "execution_count": null,
   "metadata": {},
   "outputs": [],
   "source": [
    "def displayBoard(gameBoard):\n",
    "    print(\" \")\n",
    "    print(\"Here is the current list:\")\n",
    "    print(gameBoard)\n",
    "    print(\" \")"
   ]
  },
  {
   "cell_type": "code",
   "execution_count": null,
   "metadata": {},
   "outputs": [],
   "source": []
  },
  {
   "cell_type": "code",
   "execution_count": 62,
   "metadata": {},
   "outputs": [],
   "source": [
    "def positionIndex():\n",
    "    \n",
    "    decision = 'Wrong Decision'\n",
    "    \n",
    "    while decision not in ['0','1','2']:\n",
    "        decision = input()"
   ]
  },
  {
   "cell_type": "code",
   "execution_count": null,
   "metadata": {},
   "outputs": [],
   "source": []
  },
  {
   "cell_type": "code",
   "execution_count": 63,
   "metadata": {},
   "outputs": [],
   "source": [
    "def positionDecision():\n",
    "        \n",
    "    decision = 'Wrong Decision'\n",
    "\n",
    "    while decision not in ['0','1','2']:\n",
    "        \n",
    "        decision = input (\"Pick a position (0,1,2): \")\n",
    "        \n",
    "        if decision not in ['0','1','2']:\n",
    "            \n",
    "            print ('Sorry Invalid Choice!')\n",
    "            \n",
    "    return int(decision)"
   ]
  },
  {
   "cell_type": "code",
   "execution_count": 25,
   "metadata": {},
   "outputs": [
    {
     "name": "stdout",
     "output_type": "stream",
     "text": [
      "pick a position (0,1,2): 8\n",
      "Sorry invalid choice!\n",
      "pick a position (0,1,2): 3\n",
      "Sorry invalid choice!\n",
      "pick a position (0,1,2): 0\n"
     ]
    },
    {
     "data": {
      "text/plain": [
       "0"
      ]
     },
     "execution_count": 25,
     "metadata": {},
     "output_type": "execute_result"
    }
   ],
   "source": [
    "positionDecision()"
   ]
  },
  {
   "cell_type": "code",
   "execution_count": null,
   "metadata": {},
   "outputs": [],
   "source": []
  },
  {
   "cell_type": "code",
   "execution_count": 72,
   "metadata": {},
   "outputs": [],
   "source": [
    "def userDecision():\n",
    "    \n",
    "    # Set the 'flags'\n",
    "    decision = 'Incorrect Value'\n",
    "    withinRange = False\n",
    "    \n",
    "    # While the choice is not a digit, keep asking for input.\n",
    "    while decision.isdigit() == False or withinRange == False:\n",
    "        \n",
    "    \n",
    "    # we shouldn't convert here, otherwise we get an error on a wrong input\n",
    "        decision = input(\"Please enter a number (0-2): \")\n",
    "        \n",
    "        if decision.isdigit() == False:\n",
    "            print(\"Sorry that is not a digit!\")\n",
    "            \n",
    "        if decision.isdigit() == True:\n",
    "            if int(decision) in range(0,3):\n",
    "                withinRange = True\n",
    "            else:\n",
    "                withinRange = False\n",
    "        \n",
    "    # We can convert once the while loop above has confirmed we have a digit.\n",
    "    return int(decision)"
   ]
  },
  {
   "cell_type": "code",
   "execution_count": null,
   "metadata": {},
   "outputs": [],
   "source": []
  },
  {
   "cell_type": "code",
   "execution_count": 65,
   "metadata": {},
   "outputs": [],
   "source": [
    "def entryDecision(gameList,position):\n",
    "    \n",
    "    userPlacement = input(\"Place Your Mark 'X' or 'O': \")\n",
    "    \n",
    "    gameList[position] = userPlacement\n",
    "    \n",
    "    return gameList"
   ]
  },
  {
   "cell_type": "code",
   "execution_count": 28,
   "metadata": {},
   "outputs": [
    {
     "name": "stdout",
     "output_type": "stream",
     "text": [
      "Please enter a number (0-9): tent\n"
     ]
    },
    {
     "data": {
      "text/plain": [
       "[0, 'tent', 2]"
      ]
     },
     "execution_count": 28,
     "metadata": {},
     "output_type": "execute_result"
    }
   ],
   "source": [
    "entryDecision(gameList,1)"
   ]
  },
  {
   "cell_type": "code",
   "execution_count": 66,
   "metadata": {},
   "outputs": [],
   "source": [
    "def positionDecision(): \n",
    "\n",
    "    decision = 'Wrong Decision'\n",
    "\n",
    "    while decision not in ['Y','N']:\n",
    "        \n",
    "        decision = input (\"Do You Wish To Continue ('Y','N'): \")\n",
    "        \n",
    "        if decision not in ['Y','N']:\n",
    "            print ('Sorry Invalid Choice!')\n",
    "            \n",
    "    if decision == 'Y':\n",
    "        return True\n",
    "    else:\n",
    "        return False"
   ]
  },
  {
   "cell_type": "code",
   "execution_count": 61,
   "metadata": {},
   "outputs": [
    {
     "name": "stdout",
     "output_type": "stream",
     "text": [
      "Do You Wish To Continue ('Y','N'): N\n"
     ]
    },
    {
     "data": {
      "text/plain": [
       "False"
      ]
     },
     "execution_count": 61,
     "metadata": {},
     "output_type": "execute_result"
    }
   ],
   "source": [
    "positionDecision()"
   ]
  },
  {
   "cell_type": "code",
   "execution_count": 67,
   "metadata": {},
   "outputs": [],
   "source": [
    "from IPython.display import clear_output\n",
    "clear_output()"
   ]
  },
  {
   "cell_type": "code",
   "execution_count": null,
   "metadata": {},
   "outputs": [
    {
     "name": "stdout",
     "output_type": "stream",
     "text": [
      " \n",
      "Here is the current list:\n",
      "[' ', ' ', ' ']\n",
      " \n"
     ]
    }
   ],
   "source": [
    "# Variable to keep game playing\n",
    "gameOn = True\n",
    "\n",
    "# First Game List\n",
    "gameList = [\" \",\" \",\" \"]\n",
    "\n",
    "while gameOn:\n",
    "    \n",
    "    # Clear any historical output and show the game list\n",
    "    clear_output()\n",
    "    displayBoard(gameList)\n",
    "    \n",
    "    # Have player choose position\n",
    "    position = userDecision()\n",
    "    \n",
    "    # Rewrite that position and update game_list\n",
    "    gameList = entryDecision(gameList,position)\n",
    "    \n",
    "    # Clear Screen and show the updated game list\n",
    "    clear_output()\n",
    "    displayBoard(gameList)\n",
    "    \n",
    "    # Ask if you want to keep playing\n",
    "    gameOn = positionDecision()"
   ]
  },
  {
   "cell_type": "code",
   "execution_count": null,
   "metadata": {},
   "outputs": [],
   "source": [
    "#NB. Debugging required - Loop not working as intende or possibly understood"
   ]
  },
  {
   "cell_type": "code",
   "execution_count": null,
   "metadata": {},
   "outputs": [],
   "source": []
  }
 ],
 "metadata": {
  "kernelspec": {
   "display_name": "Python 3",
   "language": "python",
   "name": "python3"
  },
  "language_info": {
   "codemirror_mode": {
    "name": "ipython",
    "version": 3
   },
   "file_extension": ".py",
   "mimetype": "text/x-python",
   "name": "python",
   "nbconvert_exporter": "python",
   "pygments_lexer": "ipython3",
   "version": "3.8.3"
  }
 },
 "nbformat": 4,
 "nbformat_minor": 4
}
