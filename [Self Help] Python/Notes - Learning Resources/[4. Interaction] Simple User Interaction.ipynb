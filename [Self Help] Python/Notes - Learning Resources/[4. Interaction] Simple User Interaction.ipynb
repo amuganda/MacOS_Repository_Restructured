{
 "cells": [
  {
   "cell_type": "markdown",
   "metadata": {},
   "source": [
    "### Learning By Example\n",
    "\n",
    "A simple interactive program, that:\n",
    "\n",
    "    Displays a list.\n",
    "    Prompts a User to 'Choose An Index Position'.\n",
    "    Prompts a User to 'Input a value'.\n",
    "    Replaces the present value at the index position wih the chosen input value of the User. \n",
    "    NB. The nice to have, check whether User wants to continue the game."
   ]
  },
  {
   "cell_type": "markdown",
   "metadata": {},
   "source": [
    "#### Building on [3. Validation].\n",
    "\n",
    "def userSelection():\n",
    "    \n",
    "    # Set the 'flags'\n",
    "    selection = 'Incorrect Value'\n",
    "    withinRange = False\n",
    "    \n",
    "    # While the choice is not a digit, keep asking for input.\n",
    "    while selection.isdigit() == False or withinRange == False:\n",
    "        \n",
    "    \n",
    "    # we shouldn't convert here, otherwise we get an error on a wrong input\n",
    "        selection = input(\"Please enter a number (0-9): \")\n",
    "        \n",
    "        if selection.isdigit() == False:\n",
    "            print(\"Sorry that is not a digit!\")\n",
    "            \n",
    "        if selection.isdigit() == True:\n",
    "            if int(selection) in range(0,10):\n",
    "                withinRange = True\n",
    "            else:\n",
    "                withinRange = False\n",
    "        \n",
    "    # We can convert once the while loop above has confirmed we have a digit.\n",
    "    return int(selection)"
   ]
  },
  {
   "cell_type": "code",
   "execution_count": null,
   "metadata": {},
   "outputs": [],
   "source": []
  },
  {
   "cell_type": "code",
   "execution_count": 12,
   "metadata": {},
   "outputs": [],
   "source": [
    "\n",
    "row1 =[' ',' ',' ']\n",
    "row2 =[' ',' ',' ']\n",
    "row3 =[' ',' ',' ']\n",
    "\n",
    "def displayBoard (row3,row2,row1):\n",
    "    print(\"Here is the current board\")\n",
    "    print(\" \")\n",
    "    print(row3)\n",
    "    print(row2)\n",
    "    print(row1)\n",
    "    print(\" \")\n",
    "\n",
    "\n"
   ]
  },
  {
   "cell_type": "code",
   "execution_count": 13,
   "metadata": {},
   "outputs": [
    {
     "name": "stdout",
     "output_type": "stream",
     "text": [
      "Here is the current board\n",
      " \n",
      "[' ', ' ', ' ']\n",
      "[' ', ' ', ' ']\n",
      "[' ', ' ', ' ']\n",
      " \n"
     ]
    }
   ],
   "source": [
    "displayBoard(row3,row2,row1)"
   ]
  },
  {
   "cell_type": "code",
   "execution_count": null,
   "metadata": {},
   "outputs": [],
   "source": []
  },
  {
   "cell_type": "code",
   "execution_count": null,
   "metadata": {},
   "outputs": [],
   "source": [
    "def positionIndex():\n",
    "    \n",
    "    choice = 'wrong'\n",
    "    \n",
    "    while choice not in ['0','1','2']:\n",
    "        choice = input()"
   ]
  },
  {
   "cell_type": "code",
   "execution_count": null,
   "metadata": {},
   "outputs": [],
   "source": []
  },
  {
   "cell_type": "code",
   "execution_count": 15,
   "metadata": {},
   "outputs": [],
   "source": [
    "def positionChoice():\n",
    "\n",
    "    choice = 'wrong'\n",
    "\n",
    "    while choice not in ['0','1','2']:\n",
    "        \n",
    "        choice = input (\"pick a position (0,1,2): \")\n",
    "        \n",
    "        if choice not in ['0','1','2']:\n",
    "            print ('Sorry invalid choice!')\n",
    "            \n",
    "    return int(choice)"
   ]
  },
  {
   "cell_type": "code",
   "execution_count": 16,
   "metadata": {},
   "outputs": [
    {
     "name": "stdout",
     "output_type": "stream",
     "text": [
      "pick a position (0,1,2): 8\n",
      "Sorry invalid choice!\n",
      "pick a position (0,1,2): 3\n",
      "Sorry invalid choice!\n",
      "pick a position (0,1,2): 0\n"
     ]
    },
    {
     "data": {
      "text/plain": [
       "0"
      ]
     },
     "execution_count": 16,
     "metadata": {},
     "output_type": "execute_result"
    }
   ],
   "source": [
    "positionChoice()"
   ]
  },
  {
   "cell_type": "code",
   "execution_count": null,
   "metadata": {},
   "outputs": [],
   "source": []
  },
  {
   "cell_type": "code",
   "execution_count": null,
   "metadata": {},
   "outputs": [],
   "source": [
    "def userChoice():\n",
    "    \n",
    "    # Set the 'flags'\n",
    "    choice = 'Incorrect Value'\n",
    "    withinRange = False\n",
    "    \n",
    "    # While the choice is not a digit, keep asking for input.\n",
    "    while choice.isdigit() == False or withinRange == False:\n",
    "        \n",
    "    \n",
    "    # we shouldn't convert here, otherwise we get an error on a wrong input\n",
    "        choice = input(\"Please enter a number (0-9): \")\n",
    "        \n",
    "        if choice.isdigit() == False:\n",
    "            print(\"Sorry that is not a digit!\")\n",
    "            \n",
    "        if choice.isdigit() == True:\n",
    "            if int(choice) in range(0,10):\n",
    "                withinRange = True\n",
    "            else:\n",
    "                withinRange = False\n",
    "        \n",
    "    # We can convert once the while loop above has confirmed we have a digit.\n",
    "    return int(choice)"
   ]
  },
  {
   "cell_type": "code",
   "execution_count": null,
   "metadata": {},
   "outputs": [],
   "source": []
  },
  {
   "cell_type": "code",
   "execution_count": 19,
   "metadata": {},
   "outputs": [],
   "source": [
    "def entryChoice(gameList,position):\n",
    "    \n",
    "    userPlacement = input(\"Please enter a number (0-9): \")\n",
    "    \n",
    "    gameList[position] = userPlacement\n",
    "    \n",
    "    return gameList"
   ]
  },
  {
   "cell_type": "code",
   "execution_count": 20,
   "metadata": {},
   "outputs": [
    {
     "name": "stdout",
     "output_type": "stream",
     "text": [
      "Please enter a number (0-9): tent\n"
     ]
    },
    {
     "data": {
      "text/plain": [
       "[0, 'tent', 2]"
      ]
     },
     "execution_count": 20,
     "metadata": {},
     "output_type": "execute_result"
    }
   ],
   "source": [
    "entryChoice(gameList,1)"
   ]
  },
  {
   "cell_type": "code",
   "execution_count": null,
   "metadata": {},
   "outputs": [],
   "source": [
    "def positionChoice():\n",
    "\n",
    "    choice = 'wrong'\n",
    "\n",
    "    while choice not in ['0','1','2']:\n",
    "        \n",
    "        choice = input (\"pick a position (0,1,2): \")\n",
    "        \n",
    "        if choice not in ['0','1','2']:\n",
    "            print ('Sorry invalid choice!')\n",
    "            \n",
    "    return int(choice)"
   ]
  }
 ],
 "metadata": {
  "kernelspec": {
   "display_name": "Python 3",
   "language": "python",
   "name": "python3"
  },
  "language_info": {
   "codemirror_mode": {
    "name": "ipython",
    "version": 3
   },
   "file_extension": ".py",
   "mimetype": "text/x-python",
   "name": "python",
   "nbconvert_exporter": "python",
   "pygments_lexer": "ipython3",
   "version": "3.8.3"
  }
 },
 "nbformat": 4,
 "nbformat_minor": 4
}
