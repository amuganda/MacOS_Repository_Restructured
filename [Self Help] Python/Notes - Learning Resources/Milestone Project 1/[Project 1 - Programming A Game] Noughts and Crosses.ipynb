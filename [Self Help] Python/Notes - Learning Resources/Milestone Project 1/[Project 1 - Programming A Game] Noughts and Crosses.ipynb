{
 "cells": [
  {
   "cell_type": "markdown",
   "metadata": {},
   "source": [
    "# Milestone Project 1: Noughts and Crosses\n",
    "\n",
    "\n",
    "Below is a set of steps for you to follow to try to create the Tic Tac Toe Milestone Project game!\n",
    "Some suggested tools before you get started:\n",
    "To take input from a user:\n",
    "\n",
    "    player1 = input(\"Please pick a marker 'X' or 'O'\")\n",
    "\n",
    "Note that input() takes in a string. If you need an integer value, use\n",
    "\n",
    "    position = int(input('Please enter a number'))\n",
    "\n",
    "\n",
    "To clear the screen between moves:\n",
    "\n",
    "    from IPython.display import clear_output\n",
    "    clear_output()\n",
    "\n",
    "Note that clear_output() will only work in jupyter. To clear the screen in other IDEs, consider:\n",
    "\n",
    "    print('\\n'*100)\n",
    "\n",
    "This scrolls the previous board up out of view. Now on to the program!\n"
   ]
  },
  {
   "cell_type": "markdown",
   "metadata": {},
   "source": [
    "### Step 1: Write a function that can print out a board. Set up your board as a list, where each index 1-9 corresponds with a number on a number pad, so you get a 3 by 3 board representation."
   ]
  },
  {
   "cell_type": "code",
   "execution_count": 72,
   "metadata": {},
   "outputs": [],
   "source": [
    "from IPython.display import clear_output\n",
    "\n",
    "def displayBoard(squares):\n",
    "    # Only works in Jupyter notebook\n",
    "    clear_output()  \n",
    "    \n",
    "    print('   I   I')\n",
    "    print(' ' + squares[7] + ' I ' + squares[8] + ' I ' + squares[9])\n",
    "    print('   I   I')\n",
    "    print('-----------')\n",
    "    print('   I   I')\n",
    "    print(' ' + squares[4] + ' I ' + squares[5] + ' I ' + squares[6])\n",
    "    print('   I   I')\n",
    "    print('-----------')\n",
    "    print('   I   I')\n",
    "    print(' ' + squares[1] + ' I ' + squares[2] + ' I ' + squares[3])\n",
    "    print('   I   I')\n"
   ]
  },
  {
   "cell_type": "markdown",
   "metadata": {},
   "source": [
    "#### TEST Step 1: run your function on a test version of the board list, and make adjustments as necessary"
   ]
  },
  {
   "cell_type": "code",
   "execution_count": 73,
   "metadata": {},
   "outputs": [
    {
     "name": "stdout",
     "output_type": "stream",
     "text": [
      "   I   I\n",
      " X I O I X\n",
      "   I   I\n",
      "-----------\n",
      "   I   I\n",
      " O I X I O\n",
      "   I   I\n",
      "-----------\n",
      "   I   I\n",
      " X I O I X\n",
      "   I   I\n"
     ]
    }
   ],
   "source": [
    "testboard = ['#','X','O','X','O','X','O','X','O','X']\n",
    "displayBoard(testboard)"
   ]
  },
  {
   "cell_type": "markdown",
   "metadata": {},
   "source": [
    "#### Step 2: Write a function that can take in a player input and assign their marker as 'X' or 'O'. Think about using while loops to continually ask until you get a correct answer."
   ]
  },
  {
   "cell_type": "code",
   "execution_count": 74,
   "metadata": {},
   "outputs": [],
   "source": [
    "def playerChoice():\n",
    "    mark = ''\n",
    "    \n",
    "    while not (mark == 'X' or mark == 'O'):\n",
    "        mark = input('Player 1: Do you want to be X or O? ').upper()\n",
    "\n",
    "    if mark == 'X':\n",
    "        return ('X', 'O')\n",
    "    else:\n",
    "        return ('O', 'X')"
   ]
  },
  {
   "cell_type": "markdown",
   "metadata": {},
   "source": [
    "#### TEST Step 2: run the function to make sure it returns the desired output"
   ]
  },
  {
   "cell_type": "code",
   "execution_count": 75,
   "metadata": {},
   "outputs": [
    {
     "name": "stdout",
     "output_type": "stream",
     "text": [
      "Player 1: Do you want to be X or O? X\n"
     ]
    },
    {
     "data": {
      "text/plain": [
       "('X', 'O')"
      ]
     },
     "execution_count": 75,
     "metadata": {},
     "output_type": "execute_result"
    }
   ],
   "source": [
    "playerChoice()"
   ]
  },
  {
   "cell_type": "markdown",
   "metadata": {},
   "source": [
    "#### Step 3: Write a function that takes in the board list object, a marker ('X' or 'O'), and a desired position (number 1-9) and assigns it to the board."
   ]
  },
  {
   "cell_type": "code",
   "execution_count": 76,
   "metadata": {},
   "outputs": [],
   "source": [
    "def placeMarker(squares, mark, position):\n",
    "    squares[position] = mark"
   ]
  },
  {
   "cell_type": "markdown",
   "metadata": {},
   "source": [
    "#### TEST Step 3: run the place marker function using test parameters and display the modified board"
   ]
  },
  {
   "cell_type": "code",
   "execution_count": 81,
   "metadata": {},
   "outputs": [
    {
     "name": "stdout",
     "output_type": "stream",
     "text": [
      "   I   I\n",
      " X I $ I X\n",
      "   I   I\n",
      "-----------\n",
      "   I   I\n",
      " O I X I O\n",
      "   I   I\n",
      "-----------\n",
      "   I   I\n",
      " X I O I X\n",
      "   I   I\n"
     ]
    }
   ],
   "source": [
    "placeMarker(testboard,'$',8)\n",
    "displayBoard(testboard)"
   ]
  },
  {
   "cell_type": "markdown",
   "metadata": {},
   "source": [
    "#### Step 4: Write a function that takes in a board and checks to see if someone has won."
   ]
  },
  {
   "cell_type": "code",
   "execution_count": 82,
   "metadata": {},
   "outputs": [],
   "source": [
    "def winCheck(squares,choice):\n",
    "    \n",
    "    return ((squares[7] == choice and squares[8] == choice and squares[9] == choice) or # across the top\n",
    "    (squares[4] == choice and squares[5] == choice and squares[6] == choice) or # across the middle\n",
    "    (squares[1] == choice and squares[2] == choice and squares[3] == choice) or # across the bottom\n",
    "    (squares[7] == choice and squares[4] == choice and squares[1] == choice) or # down the middle\n",
    "    (squares[8] == choice and squares[5] == choice and squares[2] == choice) or # down the middle\n",
    "    (squares[9] == choice and squares[6] == choice and squares[3] == choice) or # down the right side\n",
    "    (squares[7] == choice and squares[5] == choice and squares[3] == choice) or # diagonal\n",
    "    (squares[9] == choice and squares[5] == choice and squares[1] == choice)) # diagonal"
   ]
  },
  {
   "cell_type": "markdown",
   "metadata": {},
   "source": [
    "#### TEST Step 4: run the win_check function against our test_board - it should return True"
   ]
  },
  {
   "cell_type": "code",
   "execution_count": 83,
   "metadata": {},
   "outputs": [
    {
     "data": {
      "text/plain": [
       "True"
      ]
     },
     "execution_count": 83,
     "metadata": {},
     "output_type": "execute_result"
    }
   ],
   "source": [
    "winCheck(testboard,'X')"
   ]
  },
  {
   "cell_type": "markdown",
   "metadata": {},
   "source": [
    "#### Step 5: Write a function that uses the random module to randomly decide which player goes first. You may want to lookup random.randint() Return a string of which player went first."
   ]
  },
  {
   "cell_type": "code",
   "execution_count": 84,
   "metadata": {},
   "outputs": [],
   "source": [
    "import random\n",
    "\n",
    "def chooseFirst():\n",
    "    if random.randint(0, 1) == 0:\n",
    "        return 'Player 2'\n",
    "    else:\n",
    "        return 'Player 1'"
   ]
  },
  {
   "cell_type": "markdown",
   "metadata": {},
   "source": [
    "#### Step 6: Write a function that returns a boolean indicating whether a space on the board is freely available."
   ]
  },
  {
   "cell_type": "code",
   "execution_count": 85,
   "metadata": {},
   "outputs": [],
   "source": [
    "def spaceCheck(squares, position):\n",
    "    \n",
    "    return squares[position] == ' '"
   ]
  },
  {
   "cell_type": "markdown",
   "metadata": {},
   "source": [
    "#### Step 7: Write a function that checks if the board is full and returns a boolean value. True if full, False otherwise."
   ]
  },
  {
   "cell_type": "code",
   "execution_count": 86,
   "metadata": {},
   "outputs": [],
   "source": [
    "def fullBoardCheck(squares):\n",
    "    for i in range(1,10):\n",
    "        if spaceCheck(squares, i):\n",
    "            return False\n",
    "    return True"
   ]
  },
  {
   "cell_type": "markdown",
   "metadata": {},
   "source": [
    "#### Step 8: Write a function that asks for a player's next position (as a number 1-9) and then uses the function from step 6 to check if its a free position. If it is, then return the position for later use."
   ]
  },
  {
   "cell_type": "code",
   "execution_count": 87,
   "metadata": {},
   "outputs": [],
   "source": [
    "def playerChoice(squares):\n",
    "    position = 0\n",
    "    \n",
    "    while position not in [1,2,3,4,5,6,7,8,9] or not spaceCheck(squares, position):\n",
    "        position = int(input('Choose your next position: (1-9) '))\n",
    "        \n",
    "    return position"
   ]
  },
  {
   "cell_type": "markdown",
   "metadata": {},
   "source": [
    "#### Step 9: Write a function that asks the player if they want to play again and returns a boolean True if they do want to play again."
   ]
  },
  {
   "cell_type": "code",
   "execution_count": 88,
   "metadata": {},
   "outputs": [],
   "source": [
    "def replay():\n",
    "    \n",
    "    return input('Do you want to play again? Enter Yes or No: ').lower().startswith('y')"
   ]
  },
  {
   "cell_type": "markdown",
   "metadata": {},
   "source": [
    "#### Step 10: Here comes the hard part! Use while loops and the functions you've made to run the game!"
   ]
  },
  {
   "cell_type": "code",
   "execution_count": null,
   "metadata": {},
   "outputs": [
    {
     "name": "stdout",
     "output_type": "stream",
     "text": [
      "   I   I\n",
      "   I   I  \n",
      "   I   I\n",
      "-----------\n",
      "   I   I\n",
      " O I   I  \n",
      "   I   I\n",
      "-----------\n",
      "   I   I\n",
      "   I   I  \n",
      "   I   I\n"
     ]
    }
   ],
   "source": [
    "print('Lets Play, Noughts and Crosses!')\n",
    "\n",
    "while True:\n",
    "    # Reset the board\n",
    "    theBoard = [' '] * 10\n",
    "    player1_marker, player2_marker = player_input()\n",
    "    turn = chooseFirst()\n",
    "    print(turn + ' will go first.')\n",
    "    \n",
    "    playGame = input('Are you ready to play? Enter Yes or No.')\n",
    "    \n",
    "    if playGame.lower()[0] == 'y':\n",
    "        startGame = True\n",
    "    else:\n",
    "        startGame = False\n",
    "\n",
    "    while startGame:\n",
    "        if turn == 'Player 1':\n",
    "            # Player1's turn.\n",
    "            \n",
    "            displayBoard(theBoard)\n",
    "            position = playerChoice(theBoard)\n",
    "            placeMarker(theBoard, player1Marker, position)\n",
    "\n",
    "            if winCheck(theBoard, player1Marker):\n",
    "                displayBoard(theBoard)\n",
    "                print('Congratulations! You have won the game!')\n",
    "                startGame = False\n",
    "            else:\n",
    "                if fullBoardCheck(theBoard):\n",
    "                    displayBoard(theBoard)\n",
    "                    print('The game is a draw!')\n",
    "                    break\n",
    "                else:\n",
    "                    turn = 'Player 2'\n",
    "\n",
    "        else:\n",
    "            # Player2's turn.\n",
    "            \n",
    "            displayBoard(theBoard)\n",
    "            position = playerChoice(theBoard)\n",
    "            placeMarker(theBoard, player2_marker, position)\n",
    "\n",
    "            if winCheck(theBoard, player2_marker):\n",
    "                displayBoard(theBoard)\n",
    "                print('Player 2 has won!')\n",
    "                startGame = False\n",
    "            else:\n",
    "                if fullBoardCheck(theBoard):\n",
    "                    displayBoard(theBoard)\n",
    "                    print('The game is a draw!')\n",
    "                    break\n",
    "                else:\n",
    "                    turn = 'Player 1'\n",
    "\n",
    "    if not replay():\n",
    "        break"
   ]
  },
  {
   "cell_type": "code",
   "execution_count": null,
   "metadata": {},
   "outputs": [],
   "source": []
  }
 ],
 "metadata": {
  "kernelspec": {
   "display_name": "Python 3",
   "language": "python",
   "name": "python3"
  },
  "language_info": {
   "codemirror_mode": {
    "name": "ipython",
    "version": 3
   },
   "file_extension": ".py",
   "mimetype": "text/x-python",
   "name": "python",
   "nbconvert_exporter": "python",
   "pygments_lexer": "ipython3",
   "version": "3.8.3"
  }
 },
 "nbformat": 4,
 "nbformat_minor": 4
}
