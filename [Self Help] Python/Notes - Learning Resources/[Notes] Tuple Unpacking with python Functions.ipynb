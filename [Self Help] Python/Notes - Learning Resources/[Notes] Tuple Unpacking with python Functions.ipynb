{
 "cells": [
  {
   "cell_type": "markdown",
   "metadata": {},
   "source": [
    "# Python Tuples \n",
    "\n",
    "In python tuples are used to sore immutable object. Python Tuples are very similar to lists except to some situations. Python tuples are immutable means that they can not be modified in whole program.\n",
    "\n",
    "Packing and Unpacking a Tuple : In Python there is a very powerful tuple assignment feature that assigns right hand side of values into left hand side. In other way it is called unpacking of a tuple of values into a variable. In packing, we put values into a new tuple while in unpacking we extract those values into a single variable.\n",
    "\n",
    "(Taken from https://www.geeksforgeeks.org/unpacking-a-tuple-in-python/)"
   ]
  },
  {
   "cell_type": "code",
   "execution_count": 1,
   "metadata": {},
   "outputs": [],
   "source": [
    "stock_prices = [('APPL', 2003), ('GOOG', 4005),('MSFT', 1005)]"
   ]
  },
  {
   "cell_type": "code",
   "execution_count": 2,
   "metadata": {},
   "outputs": [
    {
     "name": "stdout",
     "output_type": "stream",
     "text": [
      "('APPL', 2003)\n",
      "('GOOG', 4005)\n",
      "('MSFT', 1005)\n"
     ]
    }
   ],
   "source": [
    "for item in stock_prices:\n",
    "    print (item)"
   ]
  },
  {
   "cell_type": "markdown",
   "metadata": {},
   "source": [
    "The below is an example of tuple unpacking to grab an individual price:"
   ]
  },
  {
   "cell_type": "code",
   "execution_count": 3,
   "metadata": {},
   "outputs": [
    {
     "name": "stdout",
     "output_type": "stream",
     "text": [
      "APPL\n",
      "GOOG\n",
      "MSFT\n"
     ]
    }
   ],
   "source": [
    "for ticker, price in stock_prices:\n",
    "    print(ticker)"
   ]
  },
  {
   "cell_type": "code",
   "execution_count": 4,
   "metadata": {},
   "outputs": [
    {
     "name": "stdout",
     "output_type": "stream",
     "text": [
      "2003\n",
      "4005\n",
      "1005\n"
     ]
    }
   ],
   "source": [
    "for ticker, price in stock_prices:\n",
    "    print(price)"
   ]
  },
  {
   "cell_type": "markdown",
   "metadata": {},
   "source": [
    "Applying arithmetic and unpacking a tuple"
   ]
  },
  {
   "cell_type": "code",
   "execution_count": 5,
   "metadata": {},
   "outputs": [
    {
     "name": "stdout",
     "output_type": "stream",
     "text": [
      "2203.3\n",
      "4405.5\n",
      "1105.5\n"
     ]
    }
   ],
   "source": [
    "for ticker, price in stock_prices:\n",
    "    print(price+(0.1*price))"
   ]
  },
  {
   "cell_type": "markdown",
   "metadata": {},
   "source": [
    "For the above example, the tuple has been unpacked and 10% added to the price. However, the result has not been stored in the tuple."
   ]
  },
  {
   "cell_type": "code",
   "execution_count": 6,
   "metadata": {},
   "outputs": [
    {
     "name": "stdout",
     "output_type": "stream",
     "text": [
      "('APPL', 2003)\n",
      "('GOOG', 4005)\n",
      "('MSFT', 1005)\n"
     ]
    }
   ],
   "source": [
    "for item in stock_prices:\n",
    "    print (item)"
   ]
  },
  {
   "cell_type": "markdown",
   "metadata": {},
   "source": [
    "Creating a function to unpack a tuple"
   ]
  },
  {
   "cell_type": "code",
   "execution_count": 10,
   "metadata": {},
   "outputs": [],
   "source": [
    "workHours = [('Abby', 200), ('Matt', 0),('Jenny', 999), ('Billie', 8000)]"
   ]
  },
  {
   "cell_type": "code",
   "execution_count": 16,
   "metadata": {},
   "outputs": [],
   "source": [
    "def employeeCheck(workHours):\n",
    "    #current max, intialised at ) and then will compare each employees hours\n",
    "    currentMax = 0\n",
    "    employeeOfTheMonth = ''\n",
    "    \n",
    "    for employee,hours in workHours:\n",
    "        #check if the hours is greater than currentMax\n",
    "        if hours > currentMax:\n",
    "            #replace the value within currentMax with the specific employees hours\n",
    "            currentMax = hours\n",
    "            #Add the name of the associated employee\n",
    "            employeeOfTheMonth = employee\n",
    "        else:\n",
    "            pass\n",
    "    \n",
    "    #Return\n",
    "    #On each check, if employeeOfTheMonth is greater than the current value \n",
    "    #stored in CurrentMax, then CurrentMax and employeeOfTheMonth are replaced. \n",
    "    return (employeeOfTheMonth,currentMax)"
   ]
  },
  {
   "cell_type": "code",
   "execution_count": 17,
   "metadata": {},
   "outputs": [
    {
     "data": {
      "text/plain": [
       "('Billie', 8000)"
      ]
     },
     "execution_count": 17,
     "metadata": {},
     "output_type": "execute_result"
    }
   ],
   "source": [
    "employeeCheck(workHours)"
   ]
  },
  {
   "cell_type": "code",
   "execution_count": 19,
   "metadata": {},
   "outputs": [],
   "source": [
    "workHours = [('Abby', 200), ('Matt', 0),('Jenny', 9999), ('Billie', 8000)]"
   ]
  },
  {
   "cell_type": "code",
   "execution_count": 20,
   "metadata": {},
   "outputs": [],
   "source": [
    "def employeeCheck(workHours):\n",
    "    #current max, intialised at ) and then will compare each employees hours\n",
    "    currentMax = 0\n",
    "    employeeOfTheMonth = ''\n",
    "    \n",
    "    for employee,hours in workHours:\n",
    "        #check if the hours is greater than currentMax\n",
    "        if hours > currentMax:\n",
    "            #replace the value within currentMax with the specific employees hours\n",
    "            currentMax = hours\n",
    "            #Add the name of the associated employee\n",
    "            employeeOfTheMonth = employee\n",
    "        else:\n",
    "            pass\n",
    "    \n",
    "    #Return\n",
    "    #On each check, if employeeOfTheMonth is greater than the current value \n",
    "    #stored in CurrentMax, then CurrentMax and employeeOfTheMonth are replaced. \n",
    "    return (employeeOfTheMonth,currentMax)"
   ]
  },
  {
   "cell_type": "code",
   "execution_count": 21,
   "metadata": {},
   "outputs": [
    {
     "data": {
      "text/plain": [
       "('Jenny', 9999)"
      ]
     },
     "execution_count": 21,
     "metadata": {},
     "output_type": "execute_result"
    }
   ],
   "source": [
    "employeeCheck(workHours)"
   ]
  },
  {
   "cell_type": "code",
   "execution_count": 22,
   "metadata": {},
   "outputs": [],
   "source": [
    "result = employeeCheck(workHours)"
   ]
  },
  {
   "cell_type": "code",
   "execution_count": 23,
   "metadata": {},
   "outputs": [
    {
     "data": {
      "text/plain": [
       "('Jenny', 9999)"
      ]
     },
     "execution_count": 23,
     "metadata": {},
     "output_type": "execute_result"
    }
   ],
   "source": [
    "result"
   ]
  },
  {
   "cell_type": "code",
   "execution_count": 24,
   "metadata": {},
   "outputs": [],
   "source": [
    "name,hours = employeeCheck(workHours)"
   ]
  },
  {
   "cell_type": "code",
   "execution_count": 25,
   "metadata": {},
   "outputs": [
    {
     "data": {
      "text/plain": [
       "('Jenny', 9999)"
      ]
     },
     "execution_count": 25,
     "metadata": {},
     "output_type": "execute_result"
    }
   ],
   "source": [
    "result"
   ]
  },
  {
   "cell_type": "code",
   "execution_count": 26,
   "metadata": {},
   "outputs": [
    {
     "data": {
      "text/plain": [
       "'Jenny'"
      ]
     },
     "execution_count": 26,
     "metadata": {},
     "output_type": "execute_result"
    }
   ],
   "source": [
    "name"
   ]
  },
  {
   "cell_type": "code",
   "execution_count": 27,
   "metadata": {},
   "outputs": [
    {
     "data": {
      "text/plain": [
       "9999"
      ]
     },
     "execution_count": 27,
     "metadata": {},
     "output_type": "execute_result"
    }
   ],
   "source": [
    "hours"
   ]
  },
  {
   "cell_type": "code",
   "execution_count": null,
   "metadata": {},
   "outputs": [],
   "source": []
  }
 ],
 "metadata": {
  "kernelspec": {
   "display_name": "Python 3",
   "language": "python",
   "name": "python3"
  },
  "language_info": {
   "codemirror_mode": {
    "name": "ipython",
    "version": 3
   },
   "file_extension": ".py",
   "mimetype": "text/x-python",
   "name": "python",
   "nbconvert_exporter": "python",
   "pygments_lexer": "ipython3",
   "version": "3.8.3"
  }
 },
 "nbformat": 4,
 "nbformat_minor": 4
}
