{
 "cells": [
  {
   "cell_type": "markdown",
   "metadata": {},
   "source": [
    "## Hard: \n",
    "\n",
    "### Write a Python function to check whether a string is pangram or not. (Assume the string passed in does not have any punctuation)\n",
    "\n",
    "\n",
    "\n",
    "Note : Pangrams are words or sentences containing every letter of the alphabet at least once.\n",
    "For example : \"The quick brown fox jumps over the lazy dog\"\n",
    "\n",
    "    Hint: You may want to use .replace() method to get rid of spaces.\n",
    "\n",
    "    Hint: Look at the string module (https://stackoverflow.com/questions/16060899/alphabet-range-in-python)\n",
    "\n",
    "    Hint: In case you want to use set comparisons"
   ]
  },
  {
   "cell_type": "code",
   "execution_count": null,
   "metadata": {},
   "outputs": [],
   "source": [
    "#Step 1:\n",
    "\n",
    "#     Hint: You may want to use .replace() method to get rid of spaces.\n",
    "\n",
    "#     Braindump/Idea\n",
    "\n",
    "#     sp = (\" \")\n",
    "#     string = (\"The quick brown fox jumps over the lazy dog\")\n",
    "#     newString = string.replace(sp,\"\")\n",
    "\n",
    "#Step 2:\n",
    "\n",
    "#     Hint: Look at the string module (https://stackoverflow.com/questions/16060899/alphabet-range-in-python)\n",
    "\n",
    "#     Braindump/Idea\n",
    "\n",
    "#     Convert newString to set(list)\n",
    "#     Find unique values/items in set(list)\n",
    "#     Count unique values/items\n",
    "#     If set(list) unique/values == 26\n",
    "#     print ('True, {String} is a Pangram')\n",
    "#     else:\n",
    "#     false\n",
    "\n",
    "#Step 3:\n",
    "\n",
    "#     Refactor\n",
    "\n",
    "#     Braindump/Idea\n",
    "#     With unique values in a set(list) there is no need to count\n",
    "#     Do a like for like comparison\n"
   ]
  },
  {
   "cell_type": "code",
   "execution_count": 4,
   "metadata": {},
   "outputs": [],
   "source": [
    "#Solution from Course\n",
    "import string\n",
    "\n",
    "def ispangram(str1, alphabet=string.ascii_lowercase): \n",
    "    # Create a set of the alphabet\n",
    "    alphaset = set(alphabet)  \n",
    "    \n",
    "    # Remove spaces from str1\n",
    "    str1 = str1.replace(\" \",'')\n",
    "    \n",
    "    # Lowercase all strings in the passed in string\n",
    "    # Recall we assume no punctuation \n",
    "    str1 = str1.lower()\n",
    "    \n",
    "    # Grab all unique letters in the string as a set\n",
    "    str1 = set(str1)\n",
    "    \n",
    "    # Now check that the alpahbet set is same as string set\n",
    "    return str1 == alphaset"
   ]
  },
  {
   "cell_type": "code",
   "execution_count": 5,
   "metadata": {},
   "outputs": [
    {
     "data": {
      "text/plain": [
       "True"
      ]
     },
     "execution_count": 5,
     "metadata": {},
     "output_type": "execute_result"
    }
   ],
   "source": [
    "ispangram(\"The quick brown fox jumps over the lazy dog\")"
   ]
  },
  {
   "cell_type": "code",
   "execution_count": 6,
   "metadata": {},
   "outputs": [
    {
     "data": {
      "text/plain": [
       "'abcdefghijklmnopqrstuvwxyz'"
      ]
     },
     "execution_count": 6,
     "metadata": {},
     "output_type": "execute_result"
    }
   ],
   "source": [
    "string.ascii_lowercase"
   ]
  }
 ],
 "metadata": {
  "kernelspec": {
   "display_name": "Python 3",
   "language": "python",
   "name": "python3"
  },
  "language_info": {
   "codemirror_mode": {
    "name": "ipython",
    "version": 3
   },
   "file_extension": ".py",
   "mimetype": "text/x-python",
   "name": "python",
   "nbconvert_exporter": "python",
   "pygments_lexer": "ipython3",
   "version": "3.8.3"
  }
 },
 "nbformat": 4,
 "nbformat_minor": 4
}
