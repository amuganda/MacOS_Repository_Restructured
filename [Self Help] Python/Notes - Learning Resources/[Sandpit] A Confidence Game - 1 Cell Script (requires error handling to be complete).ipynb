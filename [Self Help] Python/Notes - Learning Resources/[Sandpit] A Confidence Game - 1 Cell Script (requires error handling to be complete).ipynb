{
 "cells": [
  {
   "cell_type": "code",
   "execution_count": null,
   "metadata": {},
   "outputs": [],
   "source": [
    "#[Not Working As Expected - Error Handling Comes In Later Moduls]"
   ]
  },
  {
   "cell_type": "code",
   "execution_count": null,
   "metadata": {},
   "outputs": [],
   "source": [
    "#The 'random' Module takes the list and shuffles the content.\n",
    "from random import shuffle\n",
    "\n",
    "def shuffleList(myList):\n",
    "    shuffle(myList)\n",
    "    return myList\n",
    "\n",
    "def playerGuess():\n",
    "    #The player can guess from 1 of the 3 index places 0, 1, or 2.\n",
    "    guess=''\n",
    "    #Checks the guess against the indexes\n",
    "    while guess not in ['0','1','2']:\n",
    "        #keep requesting an input if no 'match'\n",
    "        guess = input(\"Pick a number: 0, 1 or 2\" )\n",
    "        \n",
    "        return int(guess)\n",
    "        \n",
    "def checkGuess(myList,guess):\n",
    "    if myList[guess] == '™':\n",
    "        print(\"Mamma-mia!\")\n",
    "    else:\n",
    "        print(\"Hee hee! I win! I got it!\")\n",
    "        print (myList)\n",
    "        \n",
    "#initial list\n",
    "myList = ['','™','']\n",
    "\n",
    "#shuffle list\n",
    "mixedupList = shuffleList(myList)\n",
    "\n",
    "#User Guess\n",
    "guess = playerGuess()\n",
    "\n",
    "#Check Guess\n",
    "checkGuess(mixedupList,guess)"
   ]
  },
  {
   "cell_type": "code",
   "execution_count": null,
   "metadata": {},
   "outputs": [],
   "source": []
  }
 ],
 "metadata": {
  "kernelspec": {
   "display_name": "Python 3",
   "language": "python",
   "name": "python3"
  },
  "language_info": {
   "codemirror_mode": {
    "name": "ipython",
    "version": 3
   },
   "file_extension": ".py",
   "mimetype": "text/x-python",
   "name": "python",
   "nbconvert_exporter": "python",
   "pygments_lexer": "ipython3",
   "version": "3.8.3"
  }
 },
 "nbformat": 4,
 "nbformat_minor": 4
}
