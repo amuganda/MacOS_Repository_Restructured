{
 "cells": [
  {
   "cell_type": "markdown",
   "metadata": {},
   "source": [
    "# Special Methods\n",
    "\n",
    "### What Are Special Methods?\n",
    "\n",
    "In Python, special methods or dunders are a set of predefined methods you can use to enrich your classes. They are easy to recognise because they start and end with double underscores, for example:\n",
    "\n",
    "    __init__ \n",
    "    __str__ \n",
    "    \n",
    "    \n",
    "You should treat these methods like a normal language feature.\n",
    "\n",
    "special methods let you emulate the behavior of built-in types. For example, to get the length of a string you can call len('string'), however an empty class definition doesn’t support this behavior out of the box."
   ]
  },
  {
   "cell_type": "code",
   "execution_count": 3,
   "metadata": {},
   "outputs": [],
   "source": [
    "mylist = [1,2,3]"
   ]
  },
  {
   "cell_type": "code",
   "execution_count": 4,
   "metadata": {},
   "outputs": [
    {
     "data": {
      "text/plain": [
       "3"
      ]
     },
     "execution_count": 4,
     "metadata": {},
     "output_type": "execute_result"
    }
   ],
   "source": [
    "len(mylist)"
   ]
  },
  {
   "cell_type": "code",
   "execution_count": 6,
   "metadata": {},
   "outputs": [
    {
     "ename": "TypeError",
     "evalue": "object of type 'Sample' has no len()",
     "output_type": "error",
     "traceback": [
      "\u001b[0;31m---------------------------------------------------------------------------\u001b[0m",
      "\u001b[0;31mTypeError\u001b[0m                                 Traceback (most recent call last)",
      "\u001b[0;32m<ipython-input-6-69b317074739>\u001b[0m in \u001b[0;36m<module>\u001b[0;34m\u001b[0m\n\u001b[1;32m      5\u001b[0m \u001b[0mmysample\u001b[0m \u001b[0;34m=\u001b[0m \u001b[0mSample\u001b[0m\u001b[0;34m(\u001b[0m\u001b[0;34m)\u001b[0m\u001b[0;34m\u001b[0m\u001b[0;34m\u001b[0m\u001b[0m\n\u001b[1;32m      6\u001b[0m \u001b[0;34m\u001b[0m\u001b[0m\n\u001b[0;32m----> 7\u001b[0;31m \u001b[0mlen\u001b[0m\u001b[0;34m(\u001b[0m\u001b[0mmysample\u001b[0m\u001b[0;34m)\u001b[0m\u001b[0;34m\u001b[0m\u001b[0;34m\u001b[0m\u001b[0m\n\u001b[0m",
      "\u001b[0;31mTypeError\u001b[0m: object of type 'Sample' has no len()"
     ]
    }
   ],
   "source": [
    "# example error using len\n",
    "# create a class\n",
    "\n",
    "class Sample():\n",
    "    pass\n",
    "\n",
    "mysample = Sample()\n",
    "\n",
    "len(mysample)"
   ]
  },
  {
   "cell_type": "code",
   "execution_count": 7,
   "metadata": {},
   "outputs": [
    {
     "name": "stdout",
     "output_type": "stream",
     "text": [
      "<__main__.Sample object at 0x7fa056c37640>\n"
     ]
    }
   ],
   "source": [
    "# example using print returns where the object is located in memory\n",
    "# create a class\n",
    "\n",
    "class Sample():\n",
    "    pass\n",
    "\n",
    "mysample = Sample()\n",
    "\n",
    "print(mysample)"
   ]
  },
  {
   "cell_type": "markdown",
   "metadata": {},
   "source": [
    "#### How can you use bulit in Python fucntions, such as length (len) or print, with your own user defined objects?"
   ]
  },
  {
   "cell_type": "markdown",
   "metadata": {},
   "source": [
    "#### ******** Amended Previous Worked Example ************"
   ]
  },
  {
   "cell_type": "code",
   "execution_count": 30,
   "metadata": {},
   "outputs": [],
   "source": [
    "\n",
    "class Book:\n",
    "    def __init__(self, title, author, pages):\n",
    "        print(\"A Book Is Shelved\")\n",
    "        self.title = title\n",
    "        self.author = author\n",
    "        self.pages = pages\n",
    "        \n",
    "\n",
    "    def __str__(self):\n",
    "        return \"Title: %s, Author: %s, Pages: %s\" %(self.title, self.author, self.pages)\n",
    "\n",
    "    def __del__(self):\n",
    "        print(\"Reason: The writer Was Catfished. A major oversight, vision & forecast for this returned to normal.\")"
   ]
  },
  {
   "cell_type": "code",
   "execution_count": 31,
   "metadata": {},
   "outputs": [
    {
     "name": "stdout",
     "output_type": "stream",
     "text": [
      "A Book Is Shelved\n",
      "Title: Gin & Dubonnet - This Country Makes Sad, Author: A True Account By HRH, Pages: 1082\n",
      "Reason: The Writer Was Catfished. A major oversight, vision & forecast for this returned to normal.\n"
     ]
    }
   ],
   "source": [
    "book = Book(\"Gin & Dubonnet - This Country Makes Sad\", \"A True Account By HRH\", 1082)\n",
    "\n",
    "#Special Methods\n",
    "print(book)\n",
    "del book"
   ]
  },
  {
   "cell_type": "code",
   "execution_count": null,
   "metadata": {},
   "outputs": [],
   "source": []
  }
 ],
 "metadata": {
  "kernelspec": {
   "display_name": "Python 3",
   "language": "python",
   "name": "python3"
  },
  "language_info": {
   "codemirror_mode": {
    "name": "ipython",
    "version": 3
   },
   "file_extension": ".py",
   "mimetype": "text/x-python",
   "name": "python",
   "nbconvert_exporter": "python",
   "pygments_lexer": "ipython3",
   "version": "3.8.3"
  }
 },
 "nbformat": 4,
 "nbformat_minor": 4
}
