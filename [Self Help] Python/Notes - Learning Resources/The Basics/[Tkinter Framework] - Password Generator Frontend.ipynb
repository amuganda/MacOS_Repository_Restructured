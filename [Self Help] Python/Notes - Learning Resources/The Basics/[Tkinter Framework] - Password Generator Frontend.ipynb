{
 "cells": [
  {
   "cell_type": "code",
   "execution_count": 34,
   "metadata": {},
   "outputs": [],
   "source": [
    "import tkinter as tk\n",
    "\n",
    "#Give window all properties of tkinter\n",
    "app = tk.Tk()\n",
    "\n",
    "#window title\n",
    "app.title(\"Strong Password Generator\")\n",
    "\n",
    "#Set window dimenssions\n",
    "app.geometry(\"500x500\")\n",
    "\n",
    "# LABEL\n",
    "title = tk.Label(text=\"Please Enter Nuber of Passwords To Generate:  \")\n",
    "title.grid(column=0, row=0)\n",
    "\n",
    "# ENTRY FIELD\n",
    "entry_field1 = tk.Entry( )\n",
    "entry_field1.grid(column=1, row=0)\n",
    "\n",
    "# BUTTON\n",
    "button1 = tk.Button(app, text=\"Generate\")\n",
    "button1.grid(column=2, row=0)\n",
    "\n",
    "# OUTPUT TEXT\n",
    "text_field = tk.Label(text=\" \")\n",
    "text_field.grid()\n",
    "\n",
    "#Declares the window, makes the frame appear on the screen and run everything inside the window\n",
    "tk.mainloop()\n"
   ]
  },
  {
   "cell_type": "code",
   "execution_count": null,
   "metadata": {},
   "outputs": [],
   "source": []
  },
  {
   "cell_type": "code",
   "execution_count": null,
   "metadata": {},
   "outputs": [],
   "source": []
  },
  {
   "cell_type": "code",
   "execution_count": null,
   "metadata": {},
   "outputs": [],
   "source": []
  },
  {
   "cell_type": "code",
   "execution_count": null,
   "metadata": {},
   "outputs": [],
   "source": []
  },
  {
   "cell_type": "code",
   "execution_count": null,
   "metadata": {},
   "outputs": [],
   "source": []
  },
  {
   "cell_type": "code",
   "execution_count": null,
   "metadata": {},
   "outputs": [],
   "source": []
  }
 ],
 "metadata": {
  "kernelspec": {
   "display_name": "Python 3",
   "language": "python",
   "name": "python3"
  },
  "language_info": {
   "codemirror_mode": {
    "name": "ipython",
    "version": 3
   },
   "file_extension": ".py",
   "mimetype": "text/x-python",
   "name": "python",
   "nbconvert_exporter": "python",
   "pygments_lexer": "ipython3",
   "version": "3.6.5"
  }
 },
 "nbformat": 4,
 "nbformat_minor": 2
}
