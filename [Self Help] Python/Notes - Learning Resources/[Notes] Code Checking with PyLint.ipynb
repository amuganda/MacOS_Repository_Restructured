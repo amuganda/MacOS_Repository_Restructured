{
 "cells": [
  {
   "cell_type": "markdown",
   "metadata": {},
   "source": [
    "# PyLint\n",
    "\n",
    "Pylint is a source-code, bug and quality checker for the Python programming language. It is named following a common convention in Python of a \"py\" prefix, and a nod to the C programming lint program. It follows recommended styles, tries to enforce a coding standard and looks for code smells.\n",
    "\n",
    "It can also look for certain type errors, it can recommend suggestions about how particular blocks can be refactored and can offer you details about the code's complexity.\n",
    "\n",
    "Also pay attention to the last bit of help output.\n",
    "  "
   ]
  },
  {
   "cell_type": "code",
   "execution_count": 1,
   "metadata": {},
   "outputs": [],
   "source": [
    "# use at command line"
   ]
  },
  {
   "cell_type": "markdown",
   "metadata": {},
   "source": [
    "The command line script used for the following example is:\n",
    "\n",
    "pylint pylintExample.py -r y\n",
    "\n",
    "See, the associated .py file, which should show there is a bug in the code."
   ]
  },
  {
   "cell_type": "code",
   "execution_count": 2,
   "metadata": {},
   "outputs": [],
   "source": [
    "# possible error from command line execution"
   ]
  },
  {
   "cell_type": "markdown",
   "metadata": {},
   "source": [
    "NB. You are likely to receive \"... :1:0: F0001: No module named ... \" if your file path contains spaces, numbers or special characters.\n",
    "\n",
    "example output: \n",
    "\n",
    "    /MacOS_Repository/Python/pylintExample.py:1:0: F0001: No module named /MacOS_Repository/Python/pylintExample.py    (fatal)"
   ]
  },
  {
   "cell_type": "code",
   "execution_count": 3,
   "metadata": {},
   "outputs": [],
   "source": [
    "# possible messages returned"
   ]
  },
  {
   "cell_type": "markdown",
   "metadata": {},
   "source": [
    "Output:\n",
    "\n",
    "Using the default text output, the message format is :\n",
    "   \n",
    "  MESSAGE_TYPE: LINE_NUM:[OBJECT:] MESSAGE\n",
    "  \n",
    "  There are 5 kind of message types :\n",
    "  \n",
    "  * (C) convention, for programming standard violation\n",
    "  * (R) refactor, for bad code smell\n",
    "  * (W) warning, for python specific problems\n",
    "  * (E) error, for much probably bugs in the code\n",
    "  * (F) fatal, if an error occurred which prevented pylint from doing further processing."
   ]
  },
  {
   "cell_type": "code",
   "execution_count": null,
   "metadata": {},
   "outputs": [],
   "source": []
  }
 ],
 "metadata": {
  "kernelspec": {
   "display_name": "Python 3",
   "language": "python",
   "name": "python3"
  },
  "language_info": {
   "codemirror_mode": {
    "name": "ipython",
    "version": 3
   },
   "file_extension": ".py",
   "mimetype": "text/x-python",
   "name": "python",
   "nbconvert_exporter": "python",
   "pygments_lexer": "ipython3",
   "version": "3.8.3"
  }
 },
 "nbformat": 4,
 "nbformat_minor": 4
}
