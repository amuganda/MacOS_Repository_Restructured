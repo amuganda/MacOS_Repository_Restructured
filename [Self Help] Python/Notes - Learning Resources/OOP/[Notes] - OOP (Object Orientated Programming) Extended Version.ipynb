{
 "cells": [
  {
   "cell_type": "markdown",
   "metadata": {},
   "source": [
    "# Object Oriented Programming\n",
    "\n",
    "This section consists of:\n",
    "\n",
    "    Objects\n",
    "    Using the class keyword\n",
    "    Creating class attributes\n",
    "    Creating methods in a class\n",
    "    Learning about Inheritance\n",
    "    Learning about Polymorphism\n",
    "    Learning about Special Methods for classes\n",
    "\n",
    "#### What is an object?\n",
    "\n",
    "Object-oriented programming (OOP) is a computer programming model that organizes software design around data, or objects, rather than functions and logic. \n",
    "\n",
    "An object can be defined as a data field that has unique attributes and behavior.\n",
    "\n"
   ]
  },
  {
   "cell_type": "code",
   "execution_count": 4,
   "metadata": {},
   "outputs": [],
   "source": [
    "# Below is a Basic Python Object. For example:"
   ]
  },
  {
   "cell_type": "code",
   "execution_count": 8,
   "metadata": {},
   "outputs": [],
   "source": [
    "Money = [1,2,3]"
   ]
  },
  {
   "cell_type": "code",
   "execution_count": 5,
   "metadata": {},
   "outputs": [],
   "source": [
    "# Making a call"
   ]
  },
  {
   "cell_type": "code",
   "execution_count": 9,
   "metadata": {},
   "outputs": [
    {
     "data": {
      "text/plain": [
       "1"
      ]
     },
     "execution_count": 9,
     "metadata": {},
     "output_type": "execute_result"
    }
   ],
   "source": [
    "Money.count(2)"
   ]
  },
  {
   "cell_type": "markdown",
   "metadata": {},
   "source": [
    "#### Objects\n",
    "\n",
    "In Python, everything is an object.\n",
    "\n",
    "You can use type() to check the type of object something is:"
   ]
  },
  {
   "cell_type": "code",
   "execution_count": 7,
   "metadata": {},
   "outputs": [
    {
     "name": "stdout",
     "output_type": "stream",
     "text": [
      "<class 'int'>\n",
      "<class 'list'>\n",
      "<class 'tuple'>\n",
      "<class 'dict'>\n"
     ]
    }
   ],
   "source": [
    "print(type(1))\n",
    "print(type([]))\n",
    "print(type(()))\n",
    "print(type({}))"
   ]
  },
  {
   "cell_type": "markdown",
   "metadata": {},
   "source": [
    "#### How do you create your own Object types? That is where the class keyword comes in.\n",
    "\n",
    "#### class\n",
    "\n",
    "User defined objects are created using the class keyword. \n",
    "\n",
    "The class is a blueprint that defines the nature of a future object, due to not yet being constructed. \n",
    "From classes we can construct instances. \n",
    "An instance is a specific object created from a particular class. \n",
    "\n",
    "For example, above we created the object 'Money' which was an instance of a list object.\n",
    "\n",
    "Below is how you construct a class."
   ]
  },
  {
   "cell_type": "code",
   "execution_count": 34,
   "metadata": {},
   "outputs": [
    {
     "name": "stdout",
     "output_type": "stream",
     "text": [
      "<class '__main__.Team'>\n"
     ]
    }
   ],
   "source": [
    "# Create a new object type called Team\n",
    "class Team:\n",
    "    pass\n",
    "\n",
    "# Instance of Team\n",
    "# Class object attribute\n",
    "# Same for any instance of a class\n",
    "x = Team()\n",
    "\n",
    "print(type(x))"
   ]
  },
  {
   "cell_type": "markdown",
   "metadata": {},
   "source": [
    "Classes are given a name that starts with a capital letter. \n",
    "\n",
    "NB. x is now the reference to our new instance of a Sample class. In other words, we instantiate the Sample class.\n",
    "\n",
    "Inside of the class Extorter we currently just have pass, however class attributes and methods could be defined.\n",
    "\n",
    "    An attribute is a characteristic of an object. \n",
    "    A method is an operation we can perform with the object.\n",
    "\n",
    "For example:\n",
    "\n",
    "Creating a class called Team. \n",
    "An attribute of a Team may be its name or its location, while a method of a Team may be defined by a .chant() method which returns a sound.\n",
    "\n",
    "Let's get a better understanding of attributes through an example."
   ]
  },
  {
   "cell_type": "markdown",
   "metadata": {},
   "source": [
    "#### Attributes\n",
    "\n",
    "The syntax for creating an attribute is:\n",
    "\n",
    "self.attribute = something\n",
    "\n",
    "There is a special method called:\n",
    "\n",
    "__init__()\n",
    "\n",
    "This method is used to initialize the attributes of an object. \n",
    "\n",
    "For example:"
   ]
  },
  {
   "cell_type": "code",
   "execution_count": 15,
   "metadata": {},
   "outputs": [],
   "source": [
    "class Team:\n",
    "    # The special method __init__() \n",
    "    # is called automatically right after the object has been created:\n",
    "    def __init__(self,location):\n",
    "        # Each attribute in a class definition begins with a reference to the instance object. \n",
    "        # It is by convention named self. The location is the argument. \n",
    "        # The value is passed during the class instantiation.\n",
    "        self.location = location\n",
    "    # Two instances of the Team class. \n",
    "\n",
    "Arsenal = Team(location = 'Emirates Stadium')\n",
    "ManCity = Team(location = 'Etihad Stadium')\n"
   ]
  },
  {
   "cell_type": "code",
   "execution_count": 20,
   "metadata": {},
   "outputs": [
    {
     "data": {
      "text/plain": [
       "'Emirates Stadium'"
      ]
     },
     "execution_count": 20,
     "metadata": {},
     "output_type": "execute_result"
    }
   ],
   "source": [
    "# The two location types attributes can be accessed like this:\n",
    "\n",
    "Arsenal.location\n"
   ]
  },
  {
   "cell_type": "code",
   "execution_count": 21,
   "metadata": {},
   "outputs": [
    {
     "data": {
      "text/plain": [
       "'Etihad Stadium'"
      ]
     },
     "execution_count": 21,
     "metadata": {},
     "output_type": "execute_result"
    }
   ],
   "source": [
    "\n",
    "ManCity.location\n"
   ]
  },
  {
   "cell_type": "code",
   "execution_count": 22,
   "metadata": {},
   "outputs": [],
   "source": [
    "# NB. Attributes do not require a parantheses as they do not take in arguments"
   ]
  },
  {
   "cell_type": "markdown",
   "metadata": {},
   "source": [
    "In Python there are also class object attributes. These Class Object Attributes are the same for any instance of the class. For example, we could create the attribute species for the Team class. Teams, regardless of their location, name, or other attributes, will always be part of a 'league'. \n",
    "\n",
    "We apply this logic in the following manner:"
   ]
  },
  {
   "cell_type": "code",
   "execution_count": 26,
   "metadata": {},
   "outputs": [],
   "source": [
    "class Team:\n",
    "    \n",
    "    # Class Object Attribute\n",
    "    league = 'Premiership'\n",
    "    # Attributes\n",
    "    # Take in the argument\n",
    "    # Assign it using self.attribute_name\n",
    "    def __init__(self,location,name):\n",
    "        self.location = location\n",
    "        self.name = name"
   ]
  },
  {
   "cell_type": "code",
   "execution_count": 27,
   "metadata": {},
   "outputs": [],
   "source": [
    "arsenal = Team('Emirates Stadium', 'Arsenal')"
   ]
  },
  {
   "cell_type": "code",
   "execution_count": 28,
   "metadata": {},
   "outputs": [
    {
     "data": {
      "text/plain": [
       "'Arsenal'"
      ]
     },
     "execution_count": 28,
     "metadata": {},
     "output_type": "execute_result"
    }
   ],
   "source": [
    "arsenal.name"
   ]
  },
  {
   "cell_type": "code",
   "execution_count": 29,
   "metadata": {},
   "outputs": [],
   "source": [
    "# NB. The Class Object Attribute is defined outside of any methods in the class. \n",
    "# Also by convention, they are placed before the init."
   ]
  },
  {
   "cell_type": "code",
   "execution_count": 30,
   "metadata": {},
   "outputs": [
    {
     "data": {
      "text/plain": [
       "'Premiership'"
      ]
     },
     "execution_count": 30,
     "metadata": {},
     "output_type": "execute_result"
    }
   ],
   "source": [
    "arsenal.league"
   ]
  },
  {
   "cell_type": "code",
   "execution_count": 31,
   "metadata": {},
   "outputs": [],
   "source": [
    "mancity = Team('Etihad Stadium', 'Man City')"
   ]
  },
  {
   "cell_type": "code",
   "execution_count": 32,
   "metadata": {},
   "outputs": [
    {
     "data": {
      "text/plain": [
       "'Man City'"
      ]
     },
     "execution_count": 32,
     "metadata": {},
     "output_type": "execute_result"
    }
   ],
   "source": [
    "mancity.name"
   ]
  },
  {
   "cell_type": "code",
   "execution_count": 33,
   "metadata": {},
   "outputs": [
    {
     "data": {
      "text/plain": [
       "'Premiership'"
      ]
     },
     "execution_count": 33,
     "metadata": {},
     "output_type": "execute_result"
    }
   ],
   "source": [
    "mancity.league"
   ]
  },
  {
   "cell_type": "markdown",
   "metadata": {},
   "source": [
    "#### Methods\n",
    "\n",
    "You can think of methods as functions, acting on an Object that take the Object itself into account through its self argument.\n",
    "\n",
    "    Methods are functions defined inside the body of a class. \n",
    "    They are used to perform operations with the attributes of our objects. \n",
    "    Methods are a key concept of the OOP paradigm. \n",
    "    They are essential to dividing responsibilities in programming, especially in large applications.\n",
    "    \n",
    " NB. pay attention to the use of snake_case when working with a class\n",
    "    "
   ]
  },
  {
   "cell_type": "code",
   "execution_count": 35,
   "metadata": {},
   "outputs": [
    {
     "name": "stdout",
     "output_type": "stream",
     "text": [
      "Radius is:  1\n",
      "Area is:  3.14\n",
      "Circumference is:  6.28\n"
     ]
    }
   ],
   "source": [
    "class Circle:\n",
    "    pi = 3.14\n",
    "\n",
    "    # Circle gets instantiated with a radius (default is 1)\n",
    "    def __init__(self, radius=1):\n",
    "        self.radius = radius \n",
    "        self.area = radius * radius * Circle.pi\n",
    "\n",
    "    # Method for resetting Radius\n",
    "    def setRadius(self, new_radius):\n",
    "        self.radius = new_radius\n",
    "        self.area = new_radius * new_radius * self.pi\n",
    "\n",
    "    # Method for getting Circumference\n",
    "    def getCircumference(self):\n",
    "        return self.radius * self.pi * 2\n",
    "\n",
    "\n",
    "c = Circle()\n",
    "\n",
    "print('Radius is: ',c.radius)\n",
    "print('Area is: ',c.area)\n",
    "print('Circumference is: ',c.getCircumference())\n",
    "\n"
   ]
  },
  {
   "cell_type": "markdown",
   "metadata": {},
   "source": [
    "In the __init__ method above:\n",
    " \n",
    "In order to calculate the area attribute, we had to call Circle.pi. This is because the object does not yet have its own .pi attribute, so we call the Class Object Attribute pi instead.\n",
    "In the setRadius method, however, we'll be working with an existing Circle object that does have its own pi attribute. \n",
    "\n",
    "Here we can use either Circle.pi or self.pi.\n",
    "\n",
    "Now let's change the radius and see how that affects our Circle object:"
   ]
  },
  {
   "cell_type": "code",
   "execution_count": 36,
   "metadata": {},
   "outputs": [
    {
     "name": "stdout",
     "output_type": "stream",
     "text": [
      "Radius is:  2\n",
      "Area is:  12.56\n",
      "Circumference is:  12.56\n"
     ]
    }
   ],
   "source": [
    "c.setRadius(2)\n",
    "\n",
    "print('Radius is: ',c.radius)\n",
    "print('Area is: ',c.area)\n",
    "print('Circumference is: ',c.getCircumference())\n",
    "\n"
   ]
  },
  {
   "cell_type": "markdown",
   "metadata": {},
   "source": [
    "NB. self. notation is used here to reference attributes of the class within the method calls. Review how the code above works and try creating your own method."
   ]
  },
  {
   "cell_type": "markdown",
   "metadata": {},
   "source": [
    "#### Inheritance\n",
    "\n",
    "Inheritance is a way to form new classes using classes that have already been defined. \n",
    "\n",
    "    The newly formed classes are called derived classes.\n",
    "    The classes that we derive from are called base classes. \n",
    "\n",
    "Important benefits of inheritance are:\n",
    "\n",
    "    Code reuse.\n",
    "    Reduction of complexity of a program. \n",
    "    \n",
    "The derived classes (descendants) override or extend the functionality of base classes (ancestors).\n",
    "\n",
    "Let's see an example by incorporating our previous work on the Team class:"
   ]
  },
  {
   "cell_type": "code",
   "execution_count": 50,
   "metadata": {},
   "outputs": [],
   "source": [
    "class Premiership:\n",
    "    def __init__(self):\n",
    "        print(\"Premiership created\")\n",
    "\n",
    "    def whoAmI(self):\n",
    "        print(\"Premiership\")\n",
    "\n",
    "\n",
    "class Team(Premiership):\n",
    "    def __init__(self):\n",
    "        Premiership.__init__(self)\n",
    "        print(\"Team created\")\n",
    "\n",
    "    def whoAmI(self):\n",
    "        print(\"Team\")\n",
    "\n",
    "    def location(self):\n",
    "        print(\"Emirates Stadium\")\n",
    "        \n",
    "    def chant(self):\n",
    "        print(\"Stand up... if you ate Tottenham!\")\n",
    "        "
   ]
  },
  {
   "cell_type": "code",
   "execution_count": 44,
   "metadata": {},
   "outputs": [
    {
     "name": "stdout",
     "output_type": "stream",
     "text": [
      "Premiership created\n",
      "Team created\n"
     ]
    }
   ],
   "source": [
    "arsenal = Team()"
   ]
  },
  {
   "cell_type": "code",
   "execution_count": 52,
   "metadata": {},
   "outputs": [
    {
     "name": "stdout",
     "output_type": "stream",
     "text": [
      "Team\n"
     ]
    }
   ],
   "source": [
    "arsenal.whoAmI()"
   ]
  },
  {
   "cell_type": "code",
   "execution_count": 53,
   "metadata": {},
   "outputs": [
    {
     "name": "stdout",
     "output_type": "stream",
     "text": [
      "Emirates Stadium\n"
     ]
    }
   ],
   "source": [
    "arsenal.location()"
   ]
  },
  {
   "cell_type": "code",
   "execution_count": 54,
   "metadata": {},
   "outputs": [
    {
     "name": "stdout",
     "output_type": "stream",
     "text": [
      "Stand up... if you ate Tottenham!\n"
     ]
    }
   ],
   "source": [
    "arsenal.chant()"
   ]
  },
  {
   "cell_type": "markdown",
   "metadata": {},
   "source": [
    "In this example, we have two classes: Premiership and Team. The Premiership is the base class, the Team is the derived class.\n",
    "\n",
    "The derived class inherits the functionality of the base class.\n",
    "\n",
    "    It is shown by the chant() method.\n",
    "\n",
    "The derived class modifies existing behavior of the base class.\n",
    "\n",
    "    shown by the whoAmI() method.\n",
    "\n",
    "Finally, the derived class extends the functionality of the base class, by defining a new chant() method.\n"
   ]
  },
  {
   "cell_type": "code",
   "execution_count": null,
   "metadata": {},
   "outputs": [],
   "source": [
    "# Additonal Example"
   ]
  },
  {
   "cell_type": "code",
   "execution_count": 14,
   "metadata": {},
   "outputs": [],
   "source": [
    "class HumanAnatomy:\n",
    "    def __init__(self):\n",
    "        print(\"Human Anatomy created\")\n",
    "\n",
    "    def WhatAmI(self):\n",
    "        print(\"Human Anatomy\")\n",
    "\n",
    "\n",
    "class Part(Anatomy):\n",
    "    def __init__(self):\n",
    "        HumanAnatomy.__init__(self)\n",
    "        print(\"Muscle Created\")\n",
    "\n",
    "    def WhatAmI(self):\n",
    "        print(\"Muscle Group\")\n",
    "\n",
    "    def location(self):\n",
    "        print(\"Posterior Chain\")\n",
    "        \n",
    "    def muscles(self):\n",
    "        print(\"Gluteus Maximus\")\n",
    "        print(\"Gluteus Medius\")\n",
    "        print(\"Gluteus Minimus\")\n",
    "        \n",
    "    def composition(self):\n",
    "        print(\"Water\")\n",
    "        print(\"Protein\")\n",
    "        print(\"Fat\")\n",
    "        print(\"Glycogen\")\n",
    "        \n",
    "    def impactedBy(self):\n",
    "        print(\"Genetics\")\n",
    "        \n",
    "    def commonIssues(self):\n",
    "        print(\"Imbalances:Glute Inhibition or Glute Weakness\")\n",
    "        \n",
    "    def commonFixes(self):\n",
    "        print(\"Strength Exercises\")\n",
    "        \n",
    "    def commonTensionRelievers(self):\n",
    "        print(\"Self-Myofascial Release With a Tennis Ball\")\n",
    "        \n",
    "    "
   ]
  },
  {
   "cell_type": "code",
   "execution_count": 16,
   "metadata": {},
   "outputs": [
    {
     "name": "stdout",
     "output_type": "stream",
     "text": [
      "Human Anatomy created\n",
      "Muscle Created\n"
     ]
    }
   ],
   "source": [
    "Glute = Part()"
   ]
  },
  {
   "cell_type": "code",
   "execution_count": 18,
   "metadata": {},
   "outputs": [
    {
     "name": "stdout",
     "output_type": "stream",
     "text": [
      "Muscle Group\n"
     ]
    }
   ],
   "source": [
    "Glute.WhatAmI()"
   ]
  },
  {
   "cell_type": "code",
   "execution_count": 19,
   "metadata": {},
   "outputs": [
    {
     "name": "stdout",
     "output_type": "stream",
     "text": [
      "Posterior Chain\n"
     ]
    }
   ],
   "source": [
    "Glute.location()"
   ]
  },
  {
   "cell_type": "code",
   "execution_count": 20,
   "metadata": {},
   "outputs": [
    {
     "name": "stdout",
     "output_type": "stream",
     "text": [
      "Gluteus Maximus\n",
      "Gluteus Medius\n",
      "Gluteus Minimus\n"
     ]
    }
   ],
   "source": [
    "Glute.muscles()"
   ]
  },
  {
   "cell_type": "code",
   "execution_count": 21,
   "metadata": {},
   "outputs": [
    {
     "name": "stdout",
     "output_type": "stream",
     "text": [
      "Water\n",
      "Protein\n",
      "Fat\n",
      "Glycogen\n"
     ]
    }
   ],
   "source": [
    "Glute.composition()"
   ]
  },
  {
   "cell_type": "code",
   "execution_count": 22,
   "metadata": {},
   "outputs": [
    {
     "name": "stdout",
     "output_type": "stream",
     "text": [
      "Genetics\n"
     ]
    }
   ],
   "source": [
    "Glute.impactedBy()"
   ]
  },
  {
   "cell_type": "code",
   "execution_count": 23,
   "metadata": {},
   "outputs": [
    {
     "name": "stdout",
     "output_type": "stream",
     "text": [
      "Imbalances:Glute Inhibition or Glute Weakness\n"
     ]
    }
   ],
   "source": [
    "Glute.commonIssues()"
   ]
  },
  {
   "cell_type": "code",
   "execution_count": 24,
   "metadata": {},
   "outputs": [
    {
     "name": "stdout",
     "output_type": "stream",
     "text": [
      "Strength Exercises\n"
     ]
    }
   ],
   "source": [
    "Glute.commonFixes()"
   ]
  },
  {
   "cell_type": "code",
   "execution_count": 26,
   "metadata": {},
   "outputs": [
    {
     "name": "stdout",
     "output_type": "stream",
     "text": [
      "Self-Myofascial Release With a Tennis Ball\n"
     ]
    }
   ],
   "source": [
    "Glute.commonTensionRelievers()"
   ]
  },
  {
   "cell_type": "markdown",
   "metadata": {},
   "source": [
    "#### Polymorphism\n",
    "\n",
    "While functions can take in different arguments, methods belong to the objects they act on. \n",
    "\n",
    "In Python, polymorphism refers to the way in which different object classes can share the same method name, and those methods can be called from the same place even though a variety of different objects might be passed in. \n",
    "\n",
    "See the example below:\n"
   ]
  },
  {
   "cell_type": "code",
   "execution_count": 66,
   "metadata": {},
   "outputs": [
    {
     "name": "stdout",
     "output_type": "stream",
     "text": [
      "Arsenal fans sing, we ate Tottenham!\n",
      "Stadium plays, Elvis - The Wonder of You!\n"
     ]
    }
   ],
   "source": [
    "class Team:\n",
    "    def __init__(self, name):\n",
    "        self.name = name\n",
    "\n",
    "    def audio(self):\n",
    "        return self.name+' fans sing, we ate Tottenham!'\n",
    "    \n",
    "class Sound:\n",
    "    def __init__(self, name):\n",
    "        self.name = name\n",
    "\n",
    "    def audio(self):\n",
    "        return self.name+' play, Elvis - The Wonder of You!' \n",
    "    \n",
    "Arsenal = Team('Arsenal')\n",
    "Stadium = Music('Stadium')\n",
    "\n",
    "print(Arsenal.audio())\n",
    "print(Stadium.audio())"
   ]
  },
  {
   "cell_type": "markdown",
   "metadata": {},
   "source": [
    "\n",
    "Here we have a Team class and a Sound class, and each has a .audio() method. When called, each object's .audio() method returns a result unique to the object.\n",
    "\n",
    "There a few different ways to demonstrate polymorphism. \n",
    "\n",
    "First, with a for loop:\n"
   ]
  },
  {
   "cell_type": "code",
   "execution_count": 68,
   "metadata": {},
   "outputs": [
    {
     "name": "stdout",
     "output_type": "stream",
     "text": [
      "Arsenal fans sing, we ate Tottenham!\n",
      "Stadium plays, Elvis - The Wonder of You!\n"
     ]
    }
   ],
   "source": [
    "for supporters in [Arsenal,Stadium]:\n",
    "    print(supporters.audio())"
   ]
  },
  {
   "cell_type": "markdown",
   "metadata": {},
   "source": [
    "Another is with functions:"
   ]
  },
  {
   "cell_type": "code",
   "execution_count": 69,
   "metadata": {},
   "outputs": [
    {
     "name": "stdout",
     "output_type": "stream",
     "text": [
      "Arsenal fans sing, we ate Tottenham!\n",
      "Stadium plays, Elvis - The Wonder of You!\n"
     ]
    }
   ],
   "source": [
    "def supporters_audio(supporters):\n",
    "    print(supporters.audio())\n",
    "\n",
    "supporters_audio(Arsenal)\n",
    "supporters_audio(Stadium)"
   ]
  },
  {
   "cell_type": "markdown",
   "metadata": {},
   "source": [
    "In both cases we were able to pass in different object types, and we obtained object-specific results from the same mechanism.\n",
    "\n",
    "A more common practice is to use abstract classes and inheritance. \n",
    "\n",
    "An abstract class is one that never expects to be instantiated. For example, we will never have an Premiership object, only Team and Sound objects, although Team and Sound are derived from Premiership:\n"
   ]
  },
  {
   "cell_type": "code",
   "execution_count": 74,
   "metadata": {},
   "outputs": [
    {
     "name": "stdout",
     "output_type": "stream",
     "text": [
      "Arsenal fans sing, we ate Tottenham!\n",
      "Stadium plays, Elvis - The Wonder of You!\n"
     ]
    }
   ],
   "source": [
    "class Premiership:\n",
    "\n",
    "    def __init__(self, name):    # Constructor of the class\n",
    "        self.name = name\n",
    "\n",
    "    def audio(self):              # Abstract method, defined by convention only\n",
    "        raise NotImplementedError(\"Subclass must implement abstract method\")\n",
    "\n",
    "\n",
    "class Team(Premiership):\n",
    "    \n",
    "    def audio(self):\n",
    "        return self.name+' fans sing, we ate Tottenham!'\n",
    "    \n",
    "class Sound(Premiership):\n",
    "\n",
    "    def audio(self):\n",
    "        return self.name+' plays, Elvis - The Wonder of You!' \n",
    "    \n",
    "arsenal = Team('Arsenal')\n",
    "stadium = Sound('Stadium')\n",
    "\n",
    "print(arsenal.audio())\n",
    "print(stadium.audio())"
   ]
  },
  {
   "cell_type": "markdown",
   "metadata": {},
   "source": [
    "Other examples of polymorphism include:\n",
    "\n",
    "    Opening file types - different tools are needed to display Word, pdf and Excel files\n",
    "    Adding different objects - the + operator performs arithmetic and concatenation\n",
    "\n"
   ]
  },
  {
   "cell_type": "markdown",
   "metadata": {},
   "source": [
    "#### Special Methods\n",
    "\n",
    "Classes in Python can implement certain operations with special method names. These methods are not actually called directly by Python specific language syntax. \n",
    "\n",
    "For example let's create a Book class:\n"
   ]
  },
  {
   "cell_type": "code",
   "execution_count": 75,
   "metadata": {},
   "outputs": [],
   "source": [
    "class Book:\n",
    "    def __init__(self, title, author, pages):\n",
    "        print(\"A book is shelved\")\n",
    "        self.title = title\n",
    "        self.author = author\n",
    "        self.pages = pages\n",
    "\n",
    "    def __str__(self):\n",
    "        return \"Title: %s, author: %s, pages: %s\" %(self.title, self.author, self.pages)\n",
    "\n",
    "    def __len__(self):\n",
    "        return self.pages\n",
    "\n",
    "    def __del__(self):\n",
    "        print(\"A book is not returned\")"
   ]
  },
  {
   "cell_type": "code",
   "execution_count": 76,
   "metadata": {},
   "outputs": [
    {
     "name": "stdout",
     "output_type": "stream",
     "text": [
      "A book is shelved\n",
      "Title: Are We Der Yet!, author: God, pages: 1\n",
      "1\n",
      "A book is not returned\n"
     ]
    }
   ],
   "source": [
    "book = Book(\"Are We Der Yet!\", \"God\", 1)\n",
    "\n",
    "#Special Methods\n",
    "print(book)\n",
    "print(len(book))\n",
    "del book"
   ]
  },
  {
   "cell_type": "markdown",
   "metadata": {},
   "source": [
    "The following special methods:\n",
    "\n",
    "    __init__() \n",
    "    __str__() \n",
    "    __len__() \n",
    "    __del__()  \n",
    "\n",
    "are defined by their use of underscores. They allow you to use Python specific functions on objects created through a class."
   ]
  },
  {
   "cell_type": "code",
   "execution_count": null,
   "metadata": {},
   "outputs": [],
   "source": []
  }
 ],
 "metadata": {
  "kernelspec": {
   "display_name": "Python 3",
   "language": "python",
   "name": "python3"
  },
  "language_info": {
   "codemirror_mode": {
    "name": "ipython",
    "version": 3
   },
   "file_extension": ".py",
   "mimetype": "text/x-python",
   "name": "python",
   "nbconvert_exporter": "python",
   "pygments_lexer": "ipython3",
   "version": "3.8.3"
  }
 },
 "nbformat": 4,
 "nbformat_minor": 4
}
