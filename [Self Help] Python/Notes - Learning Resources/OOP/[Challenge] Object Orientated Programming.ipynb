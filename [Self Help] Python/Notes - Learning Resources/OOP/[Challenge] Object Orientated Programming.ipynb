{
 "cells": [
  {
   "cell_type": "markdown",
   "metadata": {},
   "source": [
    "# Object Oriented Programming Challenge\n",
    "\n",
    "For this challenge, create a bank account class that has two attributes:\n",
    "\n",
    "    owner\n",
    "    balance\n",
    "\n",
    "Instantiate your class."
   ]
  },
  {
   "cell_type": "code",
   "execution_count": 39,
   "metadata": {},
   "outputs": [],
   "source": [
    "class Account:\n",
    "    # The special method __init__() \n",
    "    # is called automatically right after the object has been created:\n",
    "    def __init__(self, owner, balance = 0):\n",
    "        # Each attribute in a class definition begins with a reference to the instance object. \n",
    "        # It is by convention named self. The location is the argument. \n",
    "        # The value is passed during the class instantiation.\n",
    "        self.owner = owner\n",
    "        self.balance = balance\n"
   ]
  },
  {
   "cell_type": "code",
   "execution_count": 40,
   "metadata": {},
   "outputs": [],
   "source": [
    "acct1 = Account('Jose',100)"
   ]
  },
  {
   "cell_type": "code",
   "execution_count": 41,
   "metadata": {},
   "outputs": [
    {
     "name": "stdout",
     "output_type": "stream",
     "text": [
      "<__main__.Account object at 0x7f8df6b2cca0>\n"
     ]
    }
   ],
   "source": [
    "print(acct1)"
   ]
  },
  {
   "cell_type": "code",
   "execution_count": 53,
   "metadata": {},
   "outputs": [
    {
     "name": "stdout",
     "output_type": "stream",
     "text": [
      "Account owner:   Jose\n",
      "Account balance: $100\n"
     ]
    }
   ],
   "source": [
    "acct1 = Account (\"Jose\", 100)\n",
    "\n",
    "#Special Methods\n",
    "print(acct1)\n",
    "del acct1"
   ]
  },
  {
   "cell_type": "code",
   "execution_count": 69,
   "metadata": {},
   "outputs": [
    {
     "name": "stdout",
     "output_type": "stream",
     "text": [
      "Account owner:   Jose\n",
      "Account balance: $100\n"
     ]
    }
   ],
   "source": [
    "class Account:\n",
    "    # The special method __init__() \n",
    "    # is called automatically right after the object has been created:\n",
    "    def __init__(self,owner,balance=0):\n",
    "        # Each attribute in a class definition begins with a reference to the instance object. \n",
    "        # It is by convention named self. The location is the argument. \n",
    "        # The value is passed during the class instantiation.\n",
    "        self.owner = owner\n",
    "        self.balance = balance   \n",
    "        \n",
    "    def __str__(self):\n",
    "        return f'Account owner:   {self.owner}\\nAccount balance: ${self.balance}'\n",
    "    \n",
    "acct1 = Account (\"Jose\", 100)\n",
    "\n",
    "#Special Methods\n",
    "print(acct1)\n",
    "del acct1\n",
    "    "
   ]
  },
  {
   "cell_type": "markdown",
   "metadata": {},
   "source": [
    "and two methods:\n",
    "\n",
    "    deposit\n",
    "    withdraw\n",
    "\n",
    "As an added requirement, withdrawals may not exceed the available balance."
   ]
  },
  {
   "cell_type": "code",
   "execution_count": 70,
   "metadata": {},
   "outputs": [],
   "source": [
    "def Deposit(self, dep_amount):\n",
    "    # Request the amount that the user wishes to deposit\n",
    "    # Add the deposit to balance\n",
    "    # Display the new balance\n",
    "        self.balance += dep_amount\n",
    "        print('Deposit Accepted')\n",
    "        return f'Your New Balance Is: ${self.balance}'\n",
    "        "
   ]
  },
  {
   "cell_type": "code",
   "execution_count": 71,
   "metadata": {},
   "outputs": [],
   "source": [
    "def Withdrawal(self, withdrawal_amount):\n",
    "    # Request the amount that the user wishes to withdraw\n",
    "    # Check the withdrawal amount is less than or equal to balance\n",
    "    # if the withdrawal amount is less than or equal to balance than subtract the amount from the balance\n",
    "    # Display the new balance\n",
    "        if self.balance >= withdrawal_amount:\n",
    "            self.balance -= withdrawal_amount\n",
    "            print('Withdrawal Accepted')\n",
    "            return f'Your New Balance Is: ${self.balance}'\n",
    "        else:\n",
    "            print('Funds Unavailable!')"
   ]
  },
  {
   "cell_type": "markdown",
   "metadata": {},
   "source": [
    "\n",
    "Make several deposits and withdrawals.\n",
    "\n",
    "Test to make sure the account can't be overdrawn."
   ]
  },
  {
   "cell_type": "code",
   "execution_count": 98,
   "metadata": {},
   "outputs": [],
   "source": [
    "class Account:\n",
    "    # The special method __init__() \n",
    "    # is called automatically right after the object has been created:\n",
    "    def __init__(self,owner,balance=0):\n",
    "        # Each attribute in a class definition begins with a reference to the instance object. \n",
    "        # It is by convention named self. The location is the argument. \n",
    "        # The value is passed during the class instantiation.\n",
    "        self.owner = owner\n",
    "        self.balance = balance\n",
    "        \n",
    "    def __str__(self):\n",
    "        \n",
    "        return f'Account owner:   {self.owner}\\nAccount balance: ${self.balance}'\n",
    "        \n",
    "    def deposit(self,dep_amount):\n",
    "        # Request the amount that the user wishes to deposit\n",
    "        # Add the deposit to balance\n",
    "        # Display the new balance\n",
    "        self.balance += dep_amount\n",
    "        print('Deposit Accepted')\n",
    "        return f'Your New Balance Is: ${self.balance}'  \n",
    "        \n",
    "    def withdraw(self,withdrawal_amount):\n",
    "        # Request the amount that the user wishes to withdraw\n",
    "        # Check the withdrawal amount is less than or equal to balance\n",
    "        # if the withdrawal amount is less than or equal to balance than subtract the amount from the balance\n",
    "        # Display the new balance\n",
    "        if self.balance >= withdrawal_amount:\n",
    "            self.balance -= withdrawal_amount\n",
    "            print('Withdrawal Accepted')\n",
    "            return f'Your New Balance Is: ${self.balance}'\n",
    "        else:\n",
    "            print('Funds Unavailable!')\n",
    "            "
   ]
  },
  {
   "cell_type": "code",
   "execution_count": 104,
   "metadata": {},
   "outputs": [],
   "source": [
    "# 1. Instantiate the class\n",
    "acct1 = Account('Anthony',0.01)"
   ]
  },
  {
   "cell_type": "code",
   "execution_count": 106,
   "metadata": {},
   "outputs": [
    {
     "name": "stdout",
     "output_type": "stream",
     "text": [
      "Account owner:   Anthony\n",
      "Account balance: $0.01\n"
     ]
    }
   ],
   "source": [
    "# 2. Print the object\n",
    "print(acct1)"
   ]
  },
  {
   "cell_type": "code",
   "execution_count": 107,
   "metadata": {},
   "outputs": [
    {
     "data": {
      "text/plain": [
       "'Anthony'"
      ]
     },
     "execution_count": 107,
     "metadata": {},
     "output_type": "execute_result"
    }
   ],
   "source": [
    "# 3. Show the account owner attribute\n",
    "acct1.owner"
   ]
  },
  {
   "cell_type": "code",
   "execution_count": 108,
   "metadata": {},
   "outputs": [
    {
     "data": {
      "text/plain": [
       "0.01"
      ]
     },
     "execution_count": 108,
     "metadata": {},
     "output_type": "execute_result"
    }
   ],
   "source": [
    "# 4. Show the account balance attribute\n",
    "acct1.balance"
   ]
  },
  {
   "cell_type": "code",
   "execution_count": 110,
   "metadata": {},
   "outputs": [
    {
     "name": "stdout",
     "output_type": "stream",
     "text": [
      "Deposit Accepted\n"
     ]
    },
    {
     "data": {
      "text/plain": [
       "'Your New Balance Is: $50000000000.01'"
      ]
     },
     "execution_count": 110,
     "metadata": {},
     "output_type": "execute_result"
    }
   ],
   "source": [
    "# 5. Make a series of deposits and withdrawals\n",
    "acct1.deposit(50000000000)"
   ]
  },
  {
   "cell_type": "code",
   "execution_count": null,
   "metadata": {},
   "outputs": [],
   "source": []
  }
 ],
 "metadata": {
  "kernelspec": {
   "display_name": "Python 3",
   "language": "python",
   "name": "python3"
  },
  "language_info": {
   "codemirror_mode": {
    "name": "ipython",
    "version": 3
   },
   "file_extension": ".py",
   "mimetype": "text/x-python",
   "name": "python",
   "nbconvert_exporter": "python",
   "pygments_lexer": "ipython3",
   "version": "3.8.3"
  }
 },
 "nbformat": 4,
 "nbformat_minor": 4
}
