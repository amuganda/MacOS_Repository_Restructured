{
 "cells": [
  {
   "cell_type": "markdown",
   "metadata": {},
   "source": [
    "# *Args\n",
    "*args - arguments\n",
    "\n",
    "The special syntax *args in function definitions in python is used to pass a variable number of arguments to a function. It is used to pass a non-keyworded, variable-length argument list.\n",
    "\n",
    "    The syntax is to use the symbol * to take in a variable number of arguments; by convention, it is often used with the word args.\n",
    "    \n",
    "    What *args allows you to do is take in more arguments than the number of formal arguments that you previously defined. With *args, any number of extra arguments can be tacked on to your current formal parameters (including zero extra arguments).\n",
    "    \n",
    "    For example : we want to make a multiply function that takes any number of arguments and able to multiply them all together. It can be done using *args.\n",
    "    \n",
    "    Using the *, the variable that we associate with the * becomes an iterable meaning you can do things like iterate over it, run some higher order functions such as map and filter, etc.\n",
    "    \n",
    "(taken from:https://www.geeksforgeeks.org/args-kwargs-python/)"
   ]
  },
  {
   "cell_type": "markdown",
   "metadata": {},
   "source": [
    "### *Args"
   ]
  },
  {
   "cell_type": "code",
   "execution_count": 5,
   "metadata": {},
   "outputs": [
    {
     "name": "stdout",
     "output_type": "stream",
     "text": [
      "These are my arguments: ([1, 2, 3], (8, 9), {'key': 4})\n"
     ]
    }
   ],
   "source": [
    "#Passing arguments to function PrintArgs\n",
    "def printArgs(*args):\n",
    "    print(f\"These are my arguments: {args}\")\n",
    "    \n",
    "printArgs([1,2,3],(8,9),{'key': 4})"
   ]
  },
  {
   "cell_type": "code",
   "execution_count": 1,
   "metadata": {},
   "outputs": [
    {
     "name": "stdout",
     "output_type": "stream",
     "text": [
      "Hello\n",
      "Welcome\n",
      "to\n",
      "GeeksforGeeks\n"
     ]
    }
   ],
   "source": [
    "# Python program to illustrate *args for variable number of arguments \n",
    "def myFun(*argv):  \n",
    "    for arg in argv:  \n",
    "        print (arg) \n",
    "    \n",
    "myFun('Hello', 'Welcome', 'to', 'GeeksforGeeks')  \n"
   ]
  },
  {
   "cell_type": "code",
   "execution_count": 2,
   "metadata": {},
   "outputs": [
    {
     "name": "stdout",
     "output_type": "stream",
     "text": [
      "First argument : Hello\n",
      "Next argument through *argv : Welcome\n",
      "Next argument through *argv : to\n",
      "Next argument through *argv : GeeksforGeeks\n"
     ]
    }
   ],
   "source": [
    "\n",
    "# Python program to illustrate  \n",
    "# *args with first extra argument \n",
    "def myFun(arg1, *argv): \n",
    "    print (\"First argument :\", arg1) \n",
    "    for arg in argv: \n",
    "        print(\"Next argument through *argv :\", arg) \n",
    "  \n",
    "myFun('Hello', 'Welcome', 'to', 'GeeksforGeeks') \n"
   ]
  },
  {
   "cell_type": "markdown",
   "metadata": {},
   "source": [
    "### Other Working Examples With Errors"
   ]
  },
  {
   "cell_type": "code",
   "execution_count": 3,
   "metadata": {},
   "outputs": [
    {
     "data": {
      "text/plain": [
       "5.0"
      ]
     },
     "execution_count": 3,
     "metadata": {},
     "output_type": "execute_result"
    }
   ],
   "source": [
    "#myfunc accepts to arguments, in this case they are a,b which will be integers\n",
    "def myfunc (a,b):\n",
    "    #returns 5% of the sum of a,b - passed in as a tuple\n",
    "    return sum((a,b)) * 0.05\n",
    "#nb.(a,b) are examples of positional arguments\n",
    "myfunc(40,60)"
   ]
  },
  {
   "cell_type": "code",
   "execution_count": null,
   "metadata": {},
   "outputs": [],
   "source": [
    "*********************"
   ]
  },
  {
   "cell_type": "code",
   "execution_count": null,
   "metadata": {},
   "outputs": [],
   "source": [
    "# Error - Argument limits"
   ]
  },
  {
   "cell_type": "code",
   "execution_count": 13,
   "metadata": {},
   "outputs": [
    {
     "ename": "TypeError",
     "evalue": "myfunc() takes from 2 to 5 positional arguments but 6 were given",
     "output_type": "error",
     "traceback": [
      "\u001b[0;31m---------------------------------------------------------------------------\u001b[0m",
      "\u001b[0;31mTypeError\u001b[0m                                 Traceback (most recent call last)",
      "\u001b[0;32m<ipython-input-13-69ac25af88e3>\u001b[0m in \u001b[0;36m<module>\u001b[0;34m\u001b[0m\n\u001b[1;32m      4\u001b[0m     \u001b[0;32mreturn\u001b[0m \u001b[0msum\u001b[0m\u001b[0;34m(\u001b[0m\u001b[0;34m(\u001b[0m\u001b[0ma\u001b[0m\u001b[0;34m,\u001b[0m\u001b[0mb\u001b[0m\u001b[0;34m,\u001b[0m\u001b[0mc\u001b[0m\u001b[0;34m,\u001b[0m\u001b[0md\u001b[0m\u001b[0;34m,\u001b[0m\u001b[0me\u001b[0m\u001b[0;34m)\u001b[0m\u001b[0;34m)\u001b[0m \u001b[0;34m*\u001b[0m \u001b[0;36m0.05\u001b[0m\u001b[0;34m\u001b[0m\u001b[0;34m\u001b[0m\u001b[0m\n\u001b[1;32m      5\u001b[0m \u001b[0;31m#nb.(a,b) are examples of positional arguments\u001b[0m\u001b[0;34m\u001b[0m\u001b[0;34m\u001b[0m\u001b[0;34m\u001b[0m\u001b[0m\n\u001b[0;32m----> 6\u001b[0;31m \u001b[0mmyfunc\u001b[0m\u001b[0;34m(\u001b[0m\u001b[0;36m40\u001b[0m\u001b[0;34m,\u001b[0m\u001b[0;36m60\u001b[0m\u001b[0;34m,\u001b[0m\u001b[0;36m56\u001b[0m\u001b[0;34m,\u001b[0m\u001b[0;36m34\u001b[0m\u001b[0;34m,\u001b[0m\u001b[0;36m56\u001b[0m\u001b[0;34m,\u001b[0m\u001b[0;36m2\u001b[0m\u001b[0;34m)\u001b[0m\u001b[0;34m\u001b[0m\u001b[0;34m\u001b[0m\u001b[0m\n\u001b[0m",
      "\u001b[0;31mTypeError\u001b[0m: myfunc() takes from 2 to 5 positional arguments but 6 were given"
     ]
    }
   ],
   "source": [
    "#myfunc accepts to arguments, in this case they are a,b which will be integers\n",
    "def myfunc (a,b,c=0,d=0,e=0):\n",
    "    #returns 5% of the sum of a,b - passed in as a tuple\n",
    "    return sum((a,b,c,d,e)) * 0.05\n",
    "#nb.(a,b) are examples of positional arguments\n",
    "myfunc(40,60,56,34,56,2)"
   ]
  },
  {
   "cell_type": "code",
   "execution_count": null,
   "metadata": {},
   "outputs": [],
   "source": [
    "*********************"
   ]
  },
  {
   "cell_type": "code",
   "execution_count": 4,
   "metadata": {},
   "outputs": [],
   "source": [
    "#working with more than two positional arguments"
   ]
  },
  {
   "cell_type": "code",
   "execution_count": 9,
   "metadata": {},
   "outputs": [
    {
     "data": {
      "text/plain": [
       "14.8"
      ]
     },
     "execution_count": 9,
     "metadata": {},
     "output_type": "execute_result"
    }
   ],
   "source": [
    "def myfunc(*args):\n",
    "    return sum(args) * 0.05\n",
    "#As the limit of arguments you can work in is limited to 6, \n",
    "#this method allows you to pass in as many arguments as \n",
    "#required and then Python sets them as Tuples\n",
    "myfunc(4,60,50,100,4,55,23)"
   ]
  },
  {
   "cell_type": "markdown",
   "metadata": {},
   "source": [
    "# **kwargs\n",
    "**kwargs - Keyword Arguments\n",
    "\n",
    "The special syntax **kwargs in function definitions in python is used to pass a keyworded, variable-length argument list. We use the name kwargs with the double star. The reason is because the double star allows us to pass through keyword arguments (and any number of them).\n",
    "\n",
    "    A keyword argument is where you provide a name to the variable as you pass it into the function\n",
    "    One can think of the kwargs as being a dictionary that maps each keyword to the value that we pass alongside it \n",
    "    \n",
    "That is why when we iterate over the kwargs there doesn’t seem to be any order in which they were printed out."
   ]
  },
  {
   "cell_type": "code",
   "execution_count": 6,
   "metadata": {},
   "outputs": [],
   "source": [
    "#Passing Keyword arguments to function PrintArgs"
   ]
  },
  {
   "cell_type": "code",
   "execution_count": 15,
   "metadata": {},
   "outputs": [
    {
     "name": "stdout",
     "output_type": "stream",
     "text": [
      "vehicle Lamborghini\n",
      "pet Tortoise\n",
      "drink Latte\n"
     ]
    }
   ],
   "source": [
    "#Passing arguments to function PrintArgs\n",
    "def printKwargs(**kwargs):\n",
    "    #print(f\"These are my arguments: {kwargs}\")\n",
    "    for key, value in kwargs.items():\n",
    "        print(key, value)\n",
    "    \n",
    "printKwargs(vehicle ='Lamborghini', pet = 'Tortoise', drink = 'Latte')"
   ]
  },
  {
   "cell_type": "code",
   "execution_count": 14,
   "metadata": {},
   "outputs": [
    {
     "name": "stdout",
     "output_type": "stream",
     "text": [
      "first == Geeks\n",
      "mid == for\n",
      "last == Geeks\n"
     ]
    }
   ],
   "source": [
    "# Python program to illustrate **kargs for variable number of keyword arguments \n",
    "  \n",
    "def myFun(**kwargs):  \n",
    "    for key, value in kwargs.items(): \n",
    "        print (\"%s == %s\" %(key, value)) \n",
    "  \n",
    "# Driver code \n",
    "myFun(first ='Geeks', mid ='for', last='Geeks')     \n"
   ]
  },
  {
   "cell_type": "code",
   "execution_count": 15,
   "metadata": {},
   "outputs": [
    {
     "name": "stdout",
     "output_type": "stream",
     "text": [
      "first == Geeks\n",
      "mid == for\n",
      "last == Geeks\n"
     ]
    }
   ],
   "source": [
    "# Python program to illustrate  **kargs for  \n",
    "# variable number of keyword arguments with \n",
    "# one extra argument. \n",
    "  \n",
    "def myFun(arg1, **kwargs):  \n",
    "    for key, value in kwargs.items(): \n",
    "        print (\"%s == %s\" %(key, value)) \n",
    "  \n",
    "# Driver code \n",
    "myFun(\"Hi\", first ='Geeks', mid ='for', last='Geeks') "
   ]
  },
  {
   "cell_type": "markdown",
   "metadata": {},
   "source": [
    "### Other Working Examples With Errors"
   ]
  },
  {
   "cell_type": "code",
   "execution_count": 19,
   "metadata": {},
   "outputs": [
    {
     "name": "stdout",
     "output_type": "stream",
     "text": [
      "My Fruit Of Chocie Is Pineapple\n"
     ]
    }
   ],
   "source": [
    "def myfunc (**kwargs):\n",
    "    if 'fruit' in kwargs:\n",
    "        print ('My Fruit Of Choice Is {}'.format(kwargs['fruit']))\n",
    "    else:\n",
    "        print('I Did Not Find Any Fruit Here')\n",
    "        \n",
    "myfunc(fruit = 'Pineapple')"
   ]
  },
  {
   "cell_type": "code",
   "execution_count": null,
   "metadata": {},
   "outputs": [],
   "source": [
    "#No error returned when adidtional argument is passed via the function call"
   ]
  },
  {
   "cell_type": "code",
   "execution_count": 20,
   "metadata": {},
   "outputs": [
    {
     "name": "stdout",
     "output_type": "stream",
     "text": [
      "My Fruit Of Chocie Is Pineapple\n"
     ]
    }
   ],
   "source": [
    "def myfunc (**kwargs):\n",
    "    if 'fruit' in kwargs:\n",
    "        print ('My Fruit Of Chocie Is {}'.format(kwargs['fruit']))\n",
    "    else:\n",
    "        print('I Did Not Find Any Fruit Here')\n",
    "        \n",
    "myfunc(fruit = 'Pineapple', veg = 'Asparagus')"
   ]
  },
  {
   "cell_type": "code",
   "execution_count": 22,
   "metadata": {},
   "outputs": [],
   "source": [
    "#showing kwargs storing vaariables within a dictionary using print(kwargs)"
   ]
  },
  {
   "cell_type": "code",
   "execution_count": null,
   "metadata": {},
   "outputs": [],
   "source": [
    "# def myfunc (**kwargs):\n",
    "    print(kwargs)\n",
    "    if 'fruit' in kwargs:\n",
    "        print ('My Fruit Of Chocie Is {}'.format(kwargs['fruit']))\n",
    "    else:\n",
    "        print('I Did Not Find Any Fruit Here')\n",
    "        \n",
    "myfunc(fruit = 'Pineapple', veg = 'Asparagus')"
   ]
  },
  {
   "cell_type": "markdown",
   "metadata": {},
   "source": [
    "### Working Example Of  * *args & * ** kwargs\n",
    "\n",
    "You will find you may use these together when using outside libraries."
   ]
  },
  {
   "cell_type": "code",
   "execution_count": 26,
   "metadata": {},
   "outputs": [
    {
     "name": "stdout",
     "output_type": "stream",
     "text": [
      "(3, 1, 28)\n",
      "{'vehicles': 'lamborghini', 'food': 'Daim Bars', 'pets': 'Tortoise'}\n",
      "I purchased 3 lamborghini\n"
     ]
    }
   ],
   "source": [
    "def myfunc(*args, **kwargs):\n",
    "    print(args)\n",
    "    print(kwargs)\n",
    "    print('I purchased {} {}'.format(args[0],kwargs['vehicles'] ' & a {}'.format))\n",
    "    \n",
    "myfunc(3,1,28,vehicles='lamborghini',food='Daim Bars',pets='Tortoise')"
   ]
  },
  {
   "cell_type": "code",
   "execution_count": null,
   "metadata": {},
   "outputs": [],
   "source": []
  }
 ],
 "metadata": {
  "kernelspec": {
   "display_name": "Python 3",
   "language": "python",
   "name": "python3"
  },
  "language_info": {
   "codemirror_mode": {
    "name": "ipython",
    "version": 3
   },
   "file_extension": ".py",
   "mimetype": "text/x-python",
   "name": "python",
   "nbconvert_exporter": "python",
   "pygments_lexer": "ipython3",
   "version": "3.8.3"
  }
 },
 "nbformat": 4,
 "nbformat_minor": 4
}
