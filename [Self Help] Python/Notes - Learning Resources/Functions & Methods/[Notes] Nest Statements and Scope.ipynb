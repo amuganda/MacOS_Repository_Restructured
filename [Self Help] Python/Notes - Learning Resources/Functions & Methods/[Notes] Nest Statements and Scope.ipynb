{
 "cells": [
  {
   "cell_type": "markdown",
   "metadata": {},
   "source": [
    "# Nested Statements and Scope\n",
    "\n",
    "When you create a variable name in Python the name is stored in a name-space. \n",
    "Variable names also have a scope.\n",
    "The scope determines the visibility of that variable name to other parts of your code.\n",
    "\n",
    "Example:\n"
   ]
  },
  {
   "cell_type": "code",
   "execution_count": 2,
   "metadata": {},
   "outputs": [],
   "source": [
    "Stormzy = 27\n",
    "\n",
    "def printer():\n",
    "    Stormzy = 50\n",
    "    return Stormzy\n",
    "\n",
    "# print(Stormzy)\n",
    "# print(printer())\n"
   ]
  },
  {
   "cell_type": "code",
   "execution_count": 3,
   "metadata": {},
   "outputs": [
    {
     "name": "stdout",
     "output_type": "stream",
     "text": [
      "27\n"
     ]
    }
   ],
   "source": [
    "print(Stormzy)"
   ]
  },
  {
   "cell_type": "code",
   "execution_count": 4,
   "metadata": {},
   "outputs": [
    {
     "name": "stdout",
     "output_type": "stream",
     "text": [
      "50\n"
     ]
    }
   ],
   "source": [
    "print(printer())"
   ]
  },
  {
   "cell_type": "markdown",
   "metadata": {},
   "source": [
    "### How does python know which 'Stormzy' you are referring to?\n",
    "\n",
    "Scope - Python has a set of rules it follows to decide what variables (such as 'Stormzy' in this case) you are referencing in your code. \n",
    "\n",
    "The rules:\n",
    "\n",
    "This idea of scope in your code is very important to understand in order to properly assign and call variable names.\n",
    "\n",
    "In simple terms, the idea of scope can be described by 3 general rules:\n",
    "\n",
    "    Name assignments will create or change local names by default.\n",
    "    Name references search (at most) four scopes, these are:\n",
    "        local\n",
    "        enclosing functions\n",
    "        global\n",
    "        built-in\n",
    "    Names declared in global and nonlocal statements map assigned names to enclosing module and function scopes.\n",
    "\n",
    "The statement in #2 above can be defined by the LEGB rule.\n",
    "\n",
    "LEGB Rule:\n",
    "\n",
    "L: Local — Names assigned in any way within a function (def or lambda), and not declared global in that function.\n",
    "\n",
    "E: Enclosing function locals — Names in the local scope of any and all enclosing functions (def or lambda), from inner to outer.\n",
    "\n",
    "G: Global (module) — Names assigned at the top-level of a module file, or declared global in a def within the file.\n",
    "\n",
    "B: Built-in (Python) — Names preassigned in the built-in names module : open, range, SyntaxError,...\n",
    "\n",
    "\n",
    "NB. This is the order that python will look for variables in.\n"
   ]
  },
  {
   "cell_type": "code",
   "execution_count": 6,
   "metadata": {},
   "outputs": [],
   "source": [
    "#An example of a Local variable\n",
    "# lambda num:num**2"
   ]
  },
  {
   "cell_type": "code",
   "execution_count": 10,
   "metadata": {},
   "outputs": [
    {
     "name": "stdout",
     "output_type": "stream",
     "text": [
      "Hello Bethany\n"
     ]
    }
   ],
   "source": [
    "#An example of a Global variable\n",
    "\n",
    "name = 'This is a global string'\n",
    "\n",
    "#This nest is Enclosing\n",
    "#function called vivGreets()\n",
    "def vivGreets():\n",
    "    \n",
    "    #Inside the vivGreets, variable name is set to Bethany\n",
    "    name = 'Bethany'\n",
    "    \n",
    "    #This nest is Local\n",
    "    #function called vivGreets()\n",
    "    #hello function prints Hello +name\n",
    "    def hello():\n",
    "        print('Hello '+name)\n",
    "        \n",
    "    #call and execute hello    \n",
    "    hello()\n",
    "    \n",
    "#call greet   \n",
    "vivGreets()"
   ]
  },
  {
   "cell_type": "code",
   "execution_count": 11,
   "metadata": {},
   "outputs": [
    {
     "name": "stdout",
     "output_type": "stream",
     "text": [
      "Hello This is a global string\n"
     ]
    }
   ],
   "source": [
    "#An example of a Global variable - vivGreets doesn't 'see' Bethany\n",
    "\n",
    "#Global name space\n",
    "name = 'This is a global string'\n",
    "\n",
    "#This nest is Enclosing\n",
    "#function called vivGreets()\n",
    "def vivGreets():\n",
    "    \n",
    "    #Inside the vivGreets, variable name is set to Bethany\n",
    "    \n",
    "#    name = 'Bethany'\n",
    "\n",
    "    #This nest is Local\n",
    "    #function called vivGreets()\n",
    "    #hello function prints Hello +name\n",
    "    def hello():\n",
    "        print('Hello '+name)\n",
    "        \n",
    "    #call and execute hello    \n",
    "    hello()\n",
    "    \n",
    "#call greet   \n",
    "vivGreets()"
   ]
  },
  {
   "cell_type": "markdown",
   "metadata": {},
   "source": [
    "### Built-in\n",
    "\n",
    "These are the built-in function names in Python (NB. don't overwrite these!)\n"
   ]
  },
  {
   "cell_type": "code",
   "execution_count": 12,
   "metadata": {},
   "outputs": [
    {
     "data": {
      "text/plain": [
       "<function len(obj, /)>"
      ]
     },
     "execution_count": 12,
     "metadata": {},
     "output_type": "execute_result"
    }
   ],
   "source": [
    "len"
   ]
  },
  {
   "cell_type": "markdown",
   "metadata": {},
   "source": [
    "### Local Variables\n",
    "\n",
    "When you declare variables inside a function definition, they are not related in any way to other variables with the same names used outside the function - i.e. variable names are local to the function. This is called the scope of the variable. \n",
    "\n",
    "All variables have the scope of the block they are declared in starting from the point of definition of the name.\n",
    "\n",
    "Example:"
   ]
  },
  {
   "cell_type": "code",
   "execution_count": 21,
   "metadata": {},
   "outputs": [],
   "source": [
    "Candy = 50\n",
    "\n",
    "def func(x):\n",
    "    print(f'Candy is {Candy}')\n",
    "    \n",
    "    #Local Reassigment\n",
    "    x = 200\n",
    "    print(f'I Just Locally Amended Candy To {Candy}')"
   ]
  },
  {
   "cell_type": "code",
   "execution_count": 22,
   "metadata": {},
   "outputs": [
    {
     "name": "stdout",
     "output_type": "stream",
     "text": [
      "Candy is 50\n",
      "I Just Locally Amended Candy To 50\n"
     ]
    }
   ],
   "source": [
    "func(Candy)"
   ]
  },
  {
   "cell_type": "code",
   "execution_count": 23,
   "metadata": {},
   "outputs": [
    {
     "name": "stdout",
     "output_type": "stream",
     "text": [
      "50\n"
     ]
    }
   ],
   "source": [
    "print(Candy)"
   ]
  },
  {
   "cell_type": "markdown",
   "metadata": {},
   "source": [
    "Global Example:"
   ]
  },
  {
   "cell_type": "code",
   "execution_count": 15,
   "metadata": {},
   "outputs": [
    {
     "name": "stdout",
     "output_type": "stream",
     "text": [
      "Before calling func(), Stormzy is:  27\n",
      "This function is now using the global Stormzy!\n",
      "Because of global Stormzy is:  27\n",
      "Ran func(), changed global Stormzy to 2\n",
      "Value of Stormzy (outside of func()) is:  2\n"
     ]
    }
   ],
   "source": [
    "Stormzy = 27\n",
    "\n",
    "def func():\n",
    "    global Stormzy\n",
    "    print('This function is now using the global Stormzy!')\n",
    "    print('Because of global Stormzy is: ', Stormzy)\n",
    "    Stormzy = 2\n",
    "    print('Ran func(), changed global Stormzy to', Stormzy)\n",
    "\n",
    "print('Before calling func(), Stormzy is: ', Stormzy)\n",
    "func()\n",
    "print('Value of Stormzy (outside of func()) is: ', Stormzy)"
   ]
  },
  {
   "cell_type": "markdown",
   "metadata": {},
   "source": [
    "\n",
    "\n",
    "The global statement is used to declare that x is a global variable - hence, when we assign a value to x inside the function, that change is reflected when we use the value of x in the main block.\n",
    "\n",
    "You can specify more than one global variable using the same global statement e.g. global x, y, z.\n"
   ]
  },
  {
   "cell_type": "code",
   "execution_count": null,
   "metadata": {},
   "outputs": [],
   "source": []
  }
 ],
 "metadata": {
  "kernelspec": {
   "display_name": "Python 3",
   "language": "python",
   "name": "python3"
  },
  "language_info": {
   "codemirror_mode": {
    "name": "ipython",
    "version": 3
   },
   "file_extension": ".py",
   "mimetype": "text/x-python",
   "name": "python",
   "nbconvert_exporter": "python",
   "pygments_lexer": "ipython3",
   "version": "3.8.3"
  }
 },
 "nbformat": 4,
 "nbformat_minor": 4
}
