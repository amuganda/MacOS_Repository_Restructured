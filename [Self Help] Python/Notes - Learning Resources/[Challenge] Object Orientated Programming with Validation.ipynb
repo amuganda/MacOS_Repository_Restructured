{
 "cells": [
  {
   "cell_type": "markdown",
   "metadata": {},
   "source": [
    "# Object Oriented Programming Challenge (with validation)\n",
    "\n",
    "For this challenge, create a bank account class that has two attributes:\n",
    "\n",
    "    owner\n",
    "    balance\n",
    "\n",
    "Instantiate your class.\n",
    "\n",
    "and two methods:\n",
    "\n",
    "    deposit\n",
    "    withdraw\n",
    "\n",
    "Added requirements:\n",
    "\n",
    "    Withdrawals may not exceed the available balance.\n",
    "    Account user must be authorised.\n",
    "\n",
    "Make several deposits and withdrawals.\n",
    "\n",
    "Test to make sure the account can't be overdrawn."
   ]
  },
  {
   "cell_type": "code",
   "execution_count": 42,
   "metadata": {},
   "outputs": [],
   "source": [
    "class Account:\n",
    "    # The special method __init__() \n",
    "    # is called automatically right after the object has been created:\n",
    "    def __init__(self,owner,balance=0):\n",
    "        # Each attribute in a class definition begins with a reference to the instance object. \n",
    "        # It is by convention named self. The location is the argument. \n",
    "        # The value is passed during the class instantiation.\n",
    "        self.owner = owner\n",
    "        self.balance = balance\n",
    "        \n",
    "    def __str__(self):\n",
    "        \n",
    "        return f'Account owner:   {self.owner}\\nAccount balance: ${self.balance}'        \n",
    "    \n",
    "        # A real world example would involve integration with an OS and secure enclave\n",
    "        # Below is simple authentication\n",
    "        \n",
    "    def deposit(self,dep_amount):\n",
    "        # Validate the user is authorised account holder\n",
    "        transaction = input('Are you the account holder? Enter Yes or No.')\n",
    "    \n",
    "        if transaction.lower()[0] == 'yes':\n",
    "            startProcedure = True\n",
    "        else:\n",
    "            startProcedure = False\n",
    "            print('Request Declined')\n",
    "        \n",
    "        while startProcedure:\n",
    "        # Request the amount that the user wishes to deposit\n",
    "        # Add the deposit to balance\n",
    "        # Display the new balance\n",
    "            self.balance += dep_amount\n",
    "            print('Deposit Accepted')\n",
    "            return f'Your New Balance Is: ${self.balance}' \n",
    "        \n",
    "        # A real world example would involve integration with an OS and secure enclave\n",
    "        # Below is simple authentication\n",
    "        \n",
    "    def withdraw(self,withdrawal_amount):\n",
    "        # Validate the user is authorised account holder\n",
    "        transaction = input('Are you the account holder? Enter Yes or No.')\n",
    "    \n",
    "        if transaction.lower()[0] == 'yes':\n",
    "            startProcedure = True\n",
    "        else:\n",
    "            startProcedure = False\n",
    "            print('Request Declined')\n",
    "        \n",
    "        while startProcedure:\n",
    "        # Request the amount that the user wishes to withdraw\n",
    "        # Check the withdrawal amount is less than or equal to balance\n",
    "        # if the withdrawal amount is less than or equal to balance than subtract the amount from the balance\n",
    "        # Display the new balance\n",
    "            if self.balance >= withdrawal_amount:\n",
    "                self.balance -= withdrawal_amount\n",
    "                print('Withdrawal Accepted')\n",
    "                return f'Your New Balance Is: ${self.balance}'\n",
    "            else:\n",
    "                print('Funds Unavailable!')\n",
    "            "
   ]
  },
  {
   "cell_type": "code",
   "execution_count": 43,
   "metadata": {},
   "outputs": [],
   "source": [
    "# 1. Instantiate the class\n",
    "acct1 = Account('Anthony',0.01)"
   ]
  },
  {
   "cell_type": "code",
   "execution_count": 22,
   "metadata": {},
   "outputs": [
    {
     "name": "stdout",
     "output_type": "stream",
     "text": [
      "Account owner:   Anthony\n",
      "Account balance: $0.01\n"
     ]
    }
   ],
   "source": [
    "# 2. Print the object\n",
    "print(acct1)"
   ]
  },
  {
   "cell_type": "code",
   "execution_count": 23,
   "metadata": {},
   "outputs": [
    {
     "data": {
      "text/plain": [
       "'Anthony'"
      ]
     },
     "execution_count": 23,
     "metadata": {},
     "output_type": "execute_result"
    }
   ],
   "source": [
    "# 3. Show the account owner attribute\n",
    "acct1.owner"
   ]
  },
  {
   "cell_type": "code",
   "execution_count": 24,
   "metadata": {},
   "outputs": [
    {
     "data": {
      "text/plain": [
       "0.01"
      ]
     },
     "execution_count": 24,
     "metadata": {},
     "output_type": "execute_result"
    }
   ],
   "source": [
    "# 4. Show the account balance attribute\n",
    "acct1.balance"
   ]
  },
  {
   "cell_type": "code",
   "execution_count": 44,
   "metadata": {},
   "outputs": [
    {
     "name": "stdout",
     "output_type": "stream",
     "text": [
      "Are you the account holder? Enter Yes or No.no\n",
      "Request Declined\n"
     ]
    }
   ],
   "source": [
    "# 5. Make a series of deposits and withdrawals\n",
    "acct1.deposit(50000000000)"
   ]
  },
  {
   "cell_type": "code",
   "execution_count": 40,
   "metadata": {},
   "outputs": [
    {
     "name": "stdout",
     "output_type": "stream",
     "text": [
      "Are you the account holder? Enter Yes or No.yes\n",
      "Deposit Accepted\n"
     ]
    },
    {
     "data": {
      "text/plain": [
       "'Your New Balance Is: $190000000000.01'"
      ]
     },
     "execution_count": 40,
     "metadata": {},
     "output_type": "execute_result"
    }
   ],
   "source": [
    "# 5. Make a series of deposits and withdrawals\n",
    "acct1.deposit(50000000000)"
   ]
  },
  {
   "cell_type": "code",
   "execution_count": 41,
   "metadata": {},
   "outputs": [
    {
     "name": "stdout",
     "output_type": "stream",
     "text": [
      "Are you the account holder? Enter Yes or No.no\n"
     ]
    }
   ],
   "source": [
    "acct1.withdraw(10000000000)"
   ]
  },
  {
   "cell_type": "code",
   "execution_count": null,
   "metadata": {},
   "outputs": [],
   "source": []
  }
 ],
 "metadata": {
  "kernelspec": {
   "display_name": "Python 3",
   "language": "python",
   "name": "python3"
  },
  "language_info": {
   "codemirror_mode": {
    "name": "ipython",
    "version": 3
   },
   "file_extension": ".py",
   "mimetype": "text/x-python",
   "name": "python",
   "nbconvert_exporter": "python",
   "pygments_lexer": "ipython3",
   "version": "3.8.3"
  }
 },
 "nbformat": 4,
 "nbformat_minor": 4
}
