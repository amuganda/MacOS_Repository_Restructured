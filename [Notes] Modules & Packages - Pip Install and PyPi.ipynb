{
 "cells": [
  {
   "cell_type": "markdown",
   "metadata": {},
   "source": [
    "# Pip Install and PyPi\n",
    "\n",
    "Pip is a package-management system used to install and manage software packages written in Python. Many packages can be found in the default source for packages and their dependencies — Python Package Index (PyPI). Most distributions of Python come with pip preinstalled.\n",
    "\n",
    "#### How do I install pip?\n",
    "\n",
    "    1. Setup Your Project. \n",
    "    2. Create a package say, Rope_A_Dope_pkg . ...\n",
    "    3. To Compile Your Package. \n",
    "       Go into your package folder and execute this command: python setup.py bdist_wheel . \n",
    "    4. Install on Your Local Machine. If you want to test your application on your local machine, \n",
    "       you can install the .whl file using pip: ...\n",
    "    5. Upload on pip. ...\n",
    "    \n",
    "Terminology (Googled)\n",
    "\n",
    "Local Machine - The term local machine refers to the computer that a user is currently using on a computer network. It can be considered to be the opposite of a remote machine, which is any host (i.e., computer connected to the network) other than the local machine.\n",
    "\n",
    "Package - A package is basically a directory with Python files and a file with the name __init__ . py. This means that every directory inside of the Python path, which contains a file named __init__ . py, will be treated as a package by Python.\n",
    "\n",
    ".WHL File - A WHL file is a package saved in the Wheel format, which is the standard built-package format used for Python distributions. It contains all the files for a Python install and metadata, which includes the version of the wheel implementation and specification used to package it.\n",
    "\n",
    "#### What is PyPI repository?\n",
    "\n",
    "The Python Package Index, abbreviated as PyPI and also known as the Cheese Shop (a reference to the Monty Python's Flying Circus sketch \"Cheese Shop\"), is the official third-party software repository for Python. It is analogous to CPAN, the repository for Perl."
   ]
  },
  {
   "cell_type": "code",
   "execution_count": null,
   "metadata": {},
   "outputs": [],
   "source": []
  }
 ],
 "metadata": {
  "kernelspec": {
   "display_name": "Python 3",
   "language": "python",
   "name": "python3"
  },
  "language_info": {
   "codemirror_mode": {
    "name": "ipython",
    "version": 3
   },
   "file_extension": ".py",
   "mimetype": "text/x-python",
   "name": "python",
   "nbconvert_exporter": "python",
   "pygments_lexer": "ipython3",
   "version": "3.8.3"
  }
 },
 "nbformat": 4,
 "nbformat_minor": 4
}
